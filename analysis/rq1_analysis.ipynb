{
 "cells": [
  {
   "cell_type": "markdown",
   "metadata": {},
   "source": [
    "# RQ1\n",
    "\n",
    "How much do embedding size and number of embeddings (dataset size in terms of number of rows) impact indexing and retrieval?"
   ]
  },
  {
   "cell_type": "code",
   "execution_count": 21,
   "metadata": {},
   "outputs": [
    {
     "name": "stdout",
     "output_type": "stream",
     "text": [
      "The autoreload extension is already loaded. To reload it, use:\n",
      "  %reload_ext autoreload\n"
     ]
    }
   ],
   "source": [
    "%load_ext autoreload\n",
    "%autoreload 2\n",
    "\n",
    "from results_processor import get_experiments_data, compute_total_energy_per_run, get_variation_runs_data, compute_kruskal_wallis"
   ]
  },
  {
   "cell_type": "code",
   "execution_count": 2,
   "metadata": {},
   "outputs": [],
   "source": [
    "small_embeddings = [\n",
    "    \"gte_small_arguana_milvus\",\n",
    "    \"gte_small_nfcorpus_milvus\",\n",
    "    \"gte_small_cqadupstack_webmasters_milvus\",\n",
    "]\n",
    "\n",
    "medium_embeddings = [\n",
    "    \"gte_base_arguana_milvus\",\n",
    "    \"gte_base_nfcorpus_milvus\",\n",
    "    \"gte_base_cqadupstack_webmasters_milvus\",\n",
    "]\n",
    "\n",
    "large_embeddings = [\n",
    "    \"gte_large_arguana_milvus\",\n",
    "    \"gte_large_nfcorpus_milvus\",\n",
    "    \"gte_large_cqadupstack_webmasters_milvus\",\n",
    "]\n",
    "\n",
    "small_datasets = [\n",
    "    \"gte_small_nfcorpus_milvus\",\n",
    "    \"gte_base_nfcorpus_milvus\",\n",
    "    \"gte_large_nfcorpus_milvus\",\n",
    "]\n",
    "\n",
    "medium_datasets = [\n",
    "    \"gte_small_arguana_milvus\",\n",
    "    \"gte_base_arguana_milvus\",\n",
    "    \"gte_large_arguana_milvus\",\n",
    "]\n",
    "\n",
    "large_datasets = [\n",
    "    \"gte_small_cqadupstack_webmasters_milvus\",\n",
    "    \"gte_base_cqadupstack_webmasters_milvus\",\n",
    "    \"gte_large_cqadupstack_webmasters_milvus\",\n",
    "]\n",
    "\n",
    "dataset_no_rows = [3956, 10080, 17911]"
   ]
  },
  {
   "cell_type": "markdown",
   "metadata": {},
   "source": [
    "### 1. Indexing "
   ]
  },
  {
   "cell_type": "code",
   "execution_count": 3,
   "metadata": {},
   "outputs": [],
   "source": [
    "indexing_experiments_data = get_experiments_data(\n",
    "    \"rq1_indexing\",\n",
    "    [\n",
    "        \"Total DRAM Power [W]\",\n",
    "        \"IA Cores Power [W]\",\n",
    "    ],\n",
    ")\n",
    "indexing_runs_data = compute_total_energy_per_run(indexing_experiments_data)\n"
   ]
  },
  {
   "cell_type": "markdown",
   "metadata": {},
   "source": [
    "#### 1.1. Indexing - varying the embedding size"
   ]
  },
  {
   "cell_type": "code",
   "execution_count": 4,
   "metadata": {},
   "outputs": [],
   "source": [
    "index_embedding_variation_runs = get_variation_runs_data(\n",
    "    indexing_runs_data,\n",
    "    small_embeddings,\n",
    "    medium_embeddings,\n",
    "    large_embeddings,\n",
    "    \"model\",\n",
    "    [\"gte-small\", \"gte-medium\", \"gte-large\"],\n",
    ")"
   ]
  },
  {
   "cell_type": "code",
   "execution_count": 5,
   "metadata": {},
   "outputs": [
    {
     "data": {
      "text/html": [
       "<div>\n",
       "<style scoped>\n",
       "    .dataframe tbody tr th:only-of-type {\n",
       "        vertical-align: middle;\n",
       "    }\n",
       "\n",
       "    .dataframe tbody tr th {\n",
       "        vertical-align: top;\n",
       "    }\n",
       "\n",
       "    .dataframe thead th {\n",
       "        text-align: right;\n",
       "    }\n",
       "</style>\n",
       "<table border=\"1\" class=\"dataframe\">\n",
       "  <thead>\n",
       "    <tr style=\"text-align: right;\">\n",
       "      <th></th>\n",
       "      <th>CPU Cores Energy [J]</th>\n",
       "      <th>DRAM Energy [J]</th>\n",
       "      <th>duration [s]</th>\n",
       "    </tr>\n",
       "    <tr>\n",
       "      <th>model</th>\n",
       "      <th></th>\n",
       "      <th></th>\n",
       "      <th></th>\n",
       "    </tr>\n",
       "  </thead>\n",
       "  <tbody>\n",
       "    <tr>\n",
       "      <th>gte-large</th>\n",
       "      <td>1243.29 ± 711.74</td>\n",
       "      <td>56.82 ± 32.85</td>\n",
       "      <td>74.87 ± 42.94</td>\n",
       "    </tr>\n",
       "    <tr>\n",
       "      <th>gte-medium</th>\n",
       "      <td>1202.28 ± 699.04</td>\n",
       "      <td>54.71 ± 31.88</td>\n",
       "      <td>72.2 ± 41.79</td>\n",
       "    </tr>\n",
       "    <tr>\n",
       "      <th>gte-small</th>\n",
       "      <td>1193.89 ± 693.78</td>\n",
       "      <td>54.78 ± 32.18</td>\n",
       "      <td>71.68 ± 41.24</td>\n",
       "    </tr>\n",
       "  </tbody>\n",
       "</table>\n",
       "</div>"
      ],
      "text/plain": [
       "           CPU Cores Energy [J] DRAM Energy [J]   duration [s]\n",
       "model                                                         \n",
       "gte-large      1243.29 ± 711.74   56.82 ± 32.85  74.87 ± 42.94\n",
       "gte-medium     1202.28 ± 699.04   54.71 ± 31.88   72.2 ± 41.79\n",
       "gte-small      1193.89 ± 693.78   54.78 ± 32.18  71.68 ± 41.24"
      ]
     },
     "execution_count": 5,
     "metadata": {},
     "output_type": "execute_result"
    }
   ],
   "source": [
    "index_embedding_variation_runs.groupby(\"model\").aggregate(\n",
    "    lambda x: str(round(x.mean(), 2)) + \" ± \" + str(round(x.std(), 2))\n",
    ")"
   ]
  },
  {
   "cell_type": "code",
   "execution_count": 6,
   "metadata": {},
   "outputs": [
    {
     "data": {
      "text/plain": [
       "KruskalResult(statistic=np.float64(4.269401709401734), pvalue=np.float64(0.11827996798125272))"
      ]
     },
     "execution_count": 6,
     "metadata": {},
     "output_type": "execute_result"
    }
   ],
   "source": [
    "compute_kruskal_wallis(\n",
    "    index_embedding_variation_runs,\n",
    "    \"model\",\n",
    "    [\"gte-small\", \"gte-medium\", \"gte-large\"],\n",
    "    \"duration [s]\",\n",
    ")"
   ]
  },
  {
   "cell_type": "code",
   "execution_count": 7,
   "metadata": {},
   "outputs": [
    {
     "data": {
      "text/plain": [
       "KruskalResult(statistic=np.float64(1.769084249084301), pvalue=np.float64(0.4129031882394544))"
      ]
     },
     "execution_count": 7,
     "metadata": {},
     "output_type": "execute_result"
    }
   ],
   "source": [
    "compute_kruskal_wallis(\n",
    "    index_embedding_variation_runs,\n",
    "    \"model\",\n",
    "    [\"gte-small\", \"gte-medium\", \"gte-large\"],\n",
    "    \"CPU Cores Energy [J]\",\n",
    ")"
   ]
  },
  {
   "cell_type": "markdown",
   "metadata": {},
   "source": [
    "#### 1.2. Indexing - varying the dataset size"
   ]
  },
  {
   "cell_type": "code",
   "execution_count": 8,
   "metadata": {},
   "outputs": [],
   "source": [
    "indexing_dataset_variation_runs = get_variation_runs_data(\n",
    "    indexing_runs_data,\n",
    "    small_datasets,\n",
    "    medium_datasets,\n",
    "    large_datasets,\n",
    "    \"dataset\",\n",
    "    [\"N\", \"A\", \"C\"],\n",
    ")"
   ]
  },
  {
   "cell_type": "code",
   "execution_count": 9,
   "metadata": {},
   "outputs": [
    {
     "data": {
      "text/html": [
       "<div>\n",
       "<style scoped>\n",
       "    .dataframe tbody tr th:only-of-type {\n",
       "        vertical-align: middle;\n",
       "    }\n",
       "\n",
       "    .dataframe tbody tr th {\n",
       "        vertical-align: top;\n",
       "    }\n",
       "\n",
       "    .dataframe thead th {\n",
       "        text-align: right;\n",
       "    }\n",
       "</style>\n",
       "<table border=\"1\" class=\"dataframe\">\n",
       "  <thead>\n",
       "    <tr style=\"text-align: right;\">\n",
       "      <th></th>\n",
       "      <th>CPU Cores Energy [J]</th>\n",
       "      <th>DRAM Energy [J]</th>\n",
       "      <th>duration [s]</th>\n",
       "    </tr>\n",
       "    <tr>\n",
       "      <th>dataset</th>\n",
       "      <th></th>\n",
       "      <th></th>\n",
       "      <th></th>\n",
       "    </tr>\n",
       "  </thead>\n",
       "  <tbody>\n",
       "    <tr>\n",
       "      <th>A</th>\n",
       "      <td>1057.17 ± 64.33</td>\n",
       "      <td>48.3 ± 4.42</td>\n",
       "      <td>63.46 ± 1.93</td>\n",
       "    </tr>\n",
       "    <tr>\n",
       "      <th>C</th>\n",
       "      <td>2121.37 ± 87.0</td>\n",
       "      <td>97.05 ± 5.66</td>\n",
       "      <td>127.5 ± 3.11</td>\n",
       "    </tr>\n",
       "    <tr>\n",
       "      <th>N</th>\n",
       "      <td>460.93 ± 49.97</td>\n",
       "      <td>20.96 ± 2.9</td>\n",
       "      <td>27.78 ± 1.28</td>\n",
       "    </tr>\n",
       "  </tbody>\n",
       "</table>\n",
       "</div>"
      ],
      "text/plain": [
       "        CPU Cores Energy [J] DRAM Energy [J]  duration [s]\n",
       "dataset                                                   \n",
       "A            1057.17 ± 64.33     48.3 ± 4.42  63.46 ± 1.93\n",
       "C             2121.37 ± 87.0    97.05 ± 5.66  127.5 ± 3.11\n",
       "N             460.93 ± 49.97     20.96 ± 2.9  27.78 ± 1.28"
      ]
     },
     "execution_count": 9,
     "metadata": {},
     "output_type": "execute_result"
    }
   ],
   "source": [
    "indexing_dataset_variation_runs.groupby(\"dataset\").aggregate(\n",
    "    lambda x: str(round(x.mean(), 2)) + \" ± \" + str(round(x.std(), 2))\n",
    ")"
   ]
  },
  {
   "cell_type": "code",
   "execution_count": 10,
   "metadata": {},
   "outputs": [
    {
     "data": {
      "text/plain": [
       "KruskalResult(statistic=np.float64(79.12087912087912), pvalue=np.float64(6.593551417550709e-18))"
      ]
     },
     "execution_count": 10,
     "metadata": {},
     "output_type": "execute_result"
    }
   ],
   "source": [
    "compute_kruskal_wallis(\n",
    "    indexing_dataset_variation_runs,\n",
    "    \"dataset\",\n",
    "    [\"N\", \"A\", \"C\"],\n",
    "    \"duration [s]\",\n",
    ")"
   ]
  },
  {
   "cell_type": "code",
   "execution_count": 11,
   "metadata": {},
   "outputs": [
    {
     "data": {
      "text/plain": [
       "KruskalResult(statistic=np.float64(79.12087912087912), pvalue=np.float64(6.593551417550709e-18))"
      ]
     },
     "execution_count": 11,
     "metadata": {},
     "output_type": "execute_result"
    }
   ],
   "source": [
    "compute_kruskal_wallis(\n",
    "    indexing_dataset_variation_runs,\n",
    "    \"dataset\",\n",
    "    [\"N\", \"A\", \"C\"],\n",
    "    \"CPU Cores Energy [J]\",\n",
    ")"
   ]
  },
  {
   "cell_type": "markdown",
   "metadata": {},
   "source": [
    "### 2. Querying"
   ]
  },
  {
   "cell_type": "markdown",
   "metadata": {},
   "source": [
    "#### 2.1. Querying - varying the embedding size"
   ]
  },
  {
   "cell_type": "code",
   "execution_count": 12,
   "metadata": {},
   "outputs": [],
   "source": [
    "querying_experiments_data = get_experiments_data(\n",
    "    \"rq1_querying\",\n",
    "    [\n",
    "        \"Total DRAM Power [W]\",\n",
    "        \"IA Cores Power [W]\",\n",
    "    ],\n",
    ")\n",
    "\n",
    "querying_runs_data = compute_total_energy_per_run(querying_experiments_data)"
   ]
  },
  {
   "cell_type": "code",
   "execution_count": 13,
   "metadata": {},
   "outputs": [],
   "source": [
    "querying_embedding_variation_runs = get_variation_runs_data(\n",
    "    querying_runs_data,\n",
    "    small_embeddings,\n",
    "    medium_embeddings,\n",
    "    large_embeddings,\n",
    "    \"model\",\n",
    "    [\"gte-small\", \"gte-medium\", \"gte-large\"],\n",
    ")"
   ]
  },
  {
   "cell_type": "code",
   "execution_count": 14,
   "metadata": {},
   "outputs": [
    {
     "data": {
      "text/html": [
       "<div>\n",
       "<style scoped>\n",
       "    .dataframe tbody tr th:only-of-type {\n",
       "        vertical-align: middle;\n",
       "    }\n",
       "\n",
       "    .dataframe tbody tr th {\n",
       "        vertical-align: top;\n",
       "    }\n",
       "\n",
       "    .dataframe thead th {\n",
       "        text-align: right;\n",
       "    }\n",
       "</style>\n",
       "<table border=\"1\" class=\"dataframe\">\n",
       "  <thead>\n",
       "    <tr style=\"text-align: right;\">\n",
       "      <th></th>\n",
       "      <th>CPU Cores Energy [J]</th>\n",
       "      <th>DRAM Energy [J]</th>\n",
       "      <th>duration [s]</th>\n",
       "    </tr>\n",
       "    <tr>\n",
       "      <th>model</th>\n",
       "      <th></th>\n",
       "      <th></th>\n",
       "      <th></th>\n",
       "    </tr>\n",
       "  </thead>\n",
       "  <tbody>\n",
       "    <tr>\n",
       "      <th>gte-large</th>\n",
       "      <td>145.6 ± 13.44</td>\n",
       "      <td>5.8 ± 0.48</td>\n",
       "      <td>11.75 ± 1.32</td>\n",
       "    </tr>\n",
       "    <tr>\n",
       "      <th>gte-medium</th>\n",
       "      <td>138.51 ± 16.31</td>\n",
       "      <td>5.66 ± 0.9</td>\n",
       "      <td>10.61 ± 1.28</td>\n",
       "    </tr>\n",
       "    <tr>\n",
       "      <th>gte-small</th>\n",
       "      <td>112.85 ± 11.96</td>\n",
       "      <td>4.59 ± 0.37</td>\n",
       "      <td>9.02 ± 1.02</td>\n",
       "    </tr>\n",
       "  </tbody>\n",
       "</table>\n",
       "</div>"
      ],
      "text/plain": [
       "           CPU Cores Energy [J] DRAM Energy [J]  duration [s]\n",
       "model                                                        \n",
       "gte-large         145.6 ± 13.44      5.8 ± 0.48  11.75 ± 1.32\n",
       "gte-medium       138.51 ± 16.31      5.66 ± 0.9  10.61 ± 1.28\n",
       "gte-small        112.85 ± 11.96     4.59 ± 0.37   9.02 ± 1.02"
      ]
     },
     "execution_count": 14,
     "metadata": {},
     "output_type": "execute_result"
    }
   ],
   "source": [
    "querying_embedding_variation_runs.groupby(\"model\").aggregate(\n",
    "    lambda x: str(round(x.mean(), 2)) + \" ± \" + str(round(x.std(), 2))\n",
    ")"
   ]
  },
  {
   "cell_type": "code",
   "execution_count": 15,
   "metadata": {},
   "outputs": [
    {
     "data": {
      "text/plain": [
       "KruskalResult(statistic=np.float64(44.50666666666666), pvalue=np.float64(2.1652105243405554e-10))"
      ]
     },
     "execution_count": 15,
     "metadata": {},
     "output_type": "execute_result"
    }
   ],
   "source": [
    "compute_kruskal_wallis(\n",
    "    querying_embedding_variation_runs,\n",
    "    \"model\",\n",
    "    [\"gte-small\", \"gte-medium\", \"gte-large\"],\n",
    "    \"duration [s]\",\n",
    ")"
   ]
  },
  {
   "cell_type": "code",
   "execution_count": 16,
   "metadata": {},
   "outputs": [
    {
     "data": {
      "text/plain": [
       "KruskalResult(statistic=np.float64(89.0), pvalue=np.float64(4.7194952715261225e-20))"
      ]
     },
     "execution_count": 16,
     "metadata": {},
     "output_type": "execute_result"
    }
   ],
   "source": [
    "compute_kruskal_wallis(\n",
    "    querying_embedding_variation_runs,\n",
    "    \"model\",\n",
    "    [\"gte-small\", \"gte-medium\", \"gte-large\"],\n",
    "    \"model\",\n",
    ")"
   ]
  },
  {
   "cell_type": "markdown",
   "metadata": {},
   "source": [
    "#### 2.2. Querying - varying the dataset size"
   ]
  },
  {
   "cell_type": "code",
   "execution_count": 17,
   "metadata": {},
   "outputs": [],
   "source": [
    "querying_dataset_varation_runs = get_variation_runs_data(\n",
    "    querying_runs_data,\n",
    "    small_datasets,\n",
    "    medium_datasets,\n",
    "    large_datasets,\n",
    "    \"dataset\",\n",
    "    [\"N\", \"A\", \"C\"],\n",
    ")"
   ]
  },
  {
   "cell_type": "code",
   "execution_count": 18,
   "metadata": {},
   "outputs": [
    {
     "data": {
      "text/html": [
       "<div>\n",
       "<style scoped>\n",
       "    .dataframe tbody tr th:only-of-type {\n",
       "        vertical-align: middle;\n",
       "    }\n",
       "\n",
       "    .dataframe tbody tr th {\n",
       "        vertical-align: top;\n",
       "    }\n",
       "\n",
       "    .dataframe thead th {\n",
       "        text-align: right;\n",
       "    }\n",
       "</style>\n",
       "<table border=\"1\" class=\"dataframe\">\n",
       "  <thead>\n",
       "    <tr style=\"text-align: right;\">\n",
       "      <th></th>\n",
       "      <th>CPU Cores Energy [J]</th>\n",
       "      <th>DRAM Energy [J]</th>\n",
       "      <th>duration [s]</th>\n",
       "    </tr>\n",
       "    <tr>\n",
       "      <th>dataset</th>\n",
       "      <th></th>\n",
       "      <th></th>\n",
       "      <th></th>\n",
       "    </tr>\n",
       "  </thead>\n",
       "  <tbody>\n",
       "    <tr>\n",
       "      <th>A</th>\n",
       "      <td>128.1 ± 20.63</td>\n",
       "      <td>5.35 ± 1.05</td>\n",
       "      <td>9.6 ± 1.03</td>\n",
       "    </tr>\n",
       "    <tr>\n",
       "      <th>C</th>\n",
       "      <td>123.26 ± 16.61</td>\n",
       "      <td>5.09 ± 0.67</td>\n",
       "      <td>9.68 ± 1.15</td>\n",
       "    </tr>\n",
       "    <tr>\n",
       "      <th>N</th>\n",
       "      <td>145.6 ± 14.71</td>\n",
       "      <td>5.61 ± 0.62</td>\n",
       "      <td>12.1 ± 1.33</td>\n",
       "    </tr>\n",
       "  </tbody>\n",
       "</table>\n",
       "</div>"
      ],
      "text/plain": [
       "        CPU Cores Energy [J] DRAM Energy [J] duration [s]\n",
       "dataset                                                  \n",
       "A              128.1 ± 20.63     5.35 ± 1.05   9.6 ± 1.03\n",
       "C             123.26 ± 16.61     5.09 ± 0.67  9.68 ± 1.15\n",
       "N              145.6 ± 14.71     5.61 ± 0.62  12.1 ± 1.33"
      ]
     },
     "execution_count": 18,
     "metadata": {},
     "output_type": "execute_result"
    }
   ],
   "source": [
    "querying_dataset_varation_runs.groupby(\"dataset\").aggregate(\n",
    "    lambda x: str(round(x.mean(), 2)) + \" ± \" + str(round(x.std(), 2))\n",
    ")"
   ]
  },
  {
   "cell_type": "code",
   "execution_count": 19,
   "metadata": {},
   "outputs": [
    {
     "data": {
      "text/plain": [
       "KruskalResult(statistic=np.float64(38.41142857142853), pvalue=np.float64(4.561044029837794e-09))"
      ]
     },
     "execution_count": 19,
     "metadata": {},
     "output_type": "execute_result"
    }
   ],
   "source": [
    "compute_kruskal_wallis(\n",
    "    querying_dataset_varation_runs,\n",
    "    \"dataset\",\n",
    "    [\"N\", \"A\", \"C\"],\n",
    "    \"duration [s]\",\n",
    ")"
   ]
  },
  {
   "cell_type": "code",
   "execution_count": 20,
   "metadata": {},
   "outputs": [
    {
     "data": {
      "text/plain": [
       "KruskalResult(statistic=np.float64(22.440244200244194), pvalue=np.float64(1.3401792381726827e-05))"
      ]
     },
     "execution_count": 20,
     "metadata": {},
     "output_type": "execute_result"
    }
   ],
   "source": [
    "compute_kruskal_wallis(\n",
    "    querying_dataset_varation_runs,\n",
    "    \"dataset\",\n",
    "    [\"N\", \"A\", \"C\"],\n",
    "    \"CPU Cores Energy [J]\",\n",
    ")"
   ]
  }
 ],
 "metadata": {
  "kernelspec": {
   "display_name": "green_lm_inference",
   "language": "python",
   "name": "python3"
  },
  "language_info": {
   "codemirror_mode": {
    "name": "ipython",
    "version": 3
   },
   "file_extension": ".py",
   "mimetype": "text/x-python",
   "name": "python",
   "nbconvert_exporter": "python",
   "pygments_lexer": "ipython3",
   "version": "3.12.5"
  }
 },
 "nbformat": 4,
 "nbformat_minor": 2
}
