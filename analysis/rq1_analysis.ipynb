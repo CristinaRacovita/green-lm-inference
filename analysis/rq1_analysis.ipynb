{
 "cells": [
  {
   "cell_type": "markdown",
   "metadata": {},
   "source": [
    "# RQ1\n",
    "\n",
    "How much do embedding size and number of embeddings (dataset size in terms of number of rows) impact indexing and retrieval?"
   ]
  },
  {
   "cell_type": "code",
   "execution_count": 1,
   "metadata": {},
   "outputs": [],
   "source": [
    "%load_ext autoreload\n",
    "%autoreload 2\n",
    "\n",
    "from results_processor import get_experiments_data, compute_total_energy_per_run, get_variation_runs_data, compute_kruskal_wallis"
   ]
  },
  {
   "cell_type": "code",
   "execution_count": 2,
   "metadata": {},
   "outputs": [],
   "source": [
    "small_embeddings = [\n",
    "    \"gte_small_arguana_milvus\",\n",
    "    \"gte_small_nfcorpus_milvus\",\n",
    "    \"gte_small_cqadupstack_webmasters_milvus\",\n",
    "]\n",
    "\n",
    "medium_embeddings = [\n",
    "    \"gte_base_arguana_milvus\",\n",
    "    \"gte_base_nfcorpus_milvus\",\n",
    "    \"gte_base_cqadupstack_webmasters_milvus\",\n",
    "]\n",
    "\n",
    "large_embeddings = [\n",
    "    \"gte_large_arguana_milvus\",\n",
    "    \"gte_large_nfcorpus_milvus\",\n",
    "    \"gte_large_cqadupstack_webmasters_milvus\",\n",
    "]\n",
    "\n",
    "small_datasets = [\n",
    "    \"gte_small_nfcorpus_milvus\",\n",
    "    \"gte_base_nfcorpus_milvus\",\n",
    "    \"gte_large_nfcorpus_milvus\",\n",
    "]\n",
    "\n",
    "medium_datasets = [\n",
    "    \"gte_small_arguana_milvus\",\n",
    "    \"gte_base_arguana_milvus\",\n",
    "    \"gte_large_arguana_milvus\",\n",
    "]\n",
    "\n",
    "large_datasets = [\n",
    "    \"gte_small_cqadupstack_webmasters_milvus\",\n",
    "    \"gte_base_cqadupstack_webmasters_milvus\",\n",
    "    \"gte_large_cqadupstack_webmasters_milvus\",\n",
    "]"
   ]
  },
  {
   "cell_type": "markdown",
   "metadata": {},
   "source": [
    "### 1. Indexing "
   ]
  },
  {
   "cell_type": "code",
   "execution_count": 3,
   "metadata": {},
   "outputs": [],
   "source": [
    "indexing_experiments_data = get_experiments_data(\n",
    "    \"rq1_indexing\",\n",
    "    [\n",
    "        \"Total DRAM Power [W]\",\n",
    "        \"IA Cores Power [W]\",\n",
    "    ],\n",
    ")\n",
    "\n",
    "indexing_runs_data = compute_total_energy_per_run(indexing_experiments_data)"
   ]
  },
  {
   "cell_type": "markdown",
   "metadata": {},
   "source": [
    "#### 1.1. Indexing - varying the embedding size"
   ]
  },
  {
   "cell_type": "code",
   "execution_count": 4,
   "metadata": {},
   "outputs": [],
   "source": [
    "index_embeeding_variation_runs = get_variation_runs_data(\n",
    "    indexing_runs_data,\n",
    "    small_embeddings,\n",
    "    medium_embeddings,\n",
    "    large_embeddings,\n",
    "    \"embedding_model\",\n",
    "    [\"gte-small\", \"gte-medium\", \"gte-large\"],\n",
    ")"
   ]
  },
  {
   "cell_type": "code",
   "execution_count": 5,
   "metadata": {},
   "outputs": [
    {
     "data": {
      "text/html": [
       "<div>\n",
       "<style scoped>\n",
       "    .dataframe tbody tr th:only-of-type {\n",
       "        vertical-align: middle;\n",
       "    }\n",
       "\n",
       "    .dataframe tbody tr th {\n",
       "        vertical-align: top;\n",
       "    }\n",
       "\n",
       "    .dataframe thead th {\n",
       "        text-align: right;\n",
       "    }\n",
       "</style>\n",
       "<table border=\"1\" class=\"dataframe\">\n",
       "  <thead>\n",
       "    <tr style=\"text-align: right;\">\n",
       "      <th></th>\n",
       "      <th>IA Cores Energy [J]</th>\n",
       "      <th>DRAM Energy [J]</th>\n",
       "      <th>duration [s]</th>\n",
       "    </tr>\n",
       "    <tr>\n",
       "      <th>embedding_model</th>\n",
       "      <th></th>\n",
       "      <th></th>\n",
       "      <th></th>\n",
       "    </tr>\n",
       "  </thead>\n",
       "  <tbody>\n",
       "    <tr>\n",
       "      <th>gte-large</th>\n",
       "      <td>1476.930287</td>\n",
       "      <td>91.624827</td>\n",
       "      <td>74.867835</td>\n",
       "    </tr>\n",
       "    <tr>\n",
       "      <th>gte-medium</th>\n",
       "      <td>1427.741667</td>\n",
       "      <td>88.325880</td>\n",
       "      <td>72.196045</td>\n",
       "    </tr>\n",
       "    <tr>\n",
       "      <th>gte-small</th>\n",
       "      <td>1416.510320</td>\n",
       "      <td>87.978683</td>\n",
       "      <td>71.679724</td>\n",
       "    </tr>\n",
       "  </tbody>\n",
       "</table>\n",
       "</div>"
      ],
      "text/plain": [
       "                 IA Cores Energy [J]  DRAM Energy [J]  duration [s]\n",
       "embedding_model                                                    \n",
       "gte-large                1476.930287        91.624827     74.867835\n",
       "gte-medium               1427.741667        88.325880     72.196045\n",
       "gte-small                1416.510320        87.978683     71.679724"
      ]
     },
     "execution_count": 5,
     "metadata": {},
     "output_type": "execute_result"
    }
   ],
   "source": [
    "index_embeeding_variation_runs.groupby(\"embedding_model\").mean()"
   ]
  },
  {
   "cell_type": "code",
   "execution_count": 6,
   "metadata": {},
   "outputs": [
    {
     "data": {
      "text/html": [
       "<div>\n",
       "<style scoped>\n",
       "    .dataframe tbody tr th:only-of-type {\n",
       "        vertical-align: middle;\n",
       "    }\n",
       "\n",
       "    .dataframe tbody tr th {\n",
       "        vertical-align: top;\n",
       "    }\n",
       "\n",
       "    .dataframe thead th {\n",
       "        text-align: right;\n",
       "    }\n",
       "</style>\n",
       "<table border=\"1\" class=\"dataframe\">\n",
       "  <thead>\n",
       "    <tr style=\"text-align: right;\">\n",
       "      <th></th>\n",
       "      <th>IA Cores Energy [J]</th>\n",
       "      <th>DRAM Energy [J]</th>\n",
       "      <th>duration [s]</th>\n",
       "    </tr>\n",
       "    <tr>\n",
       "      <th>embedding_model</th>\n",
       "      <th></th>\n",
       "      <th></th>\n",
       "      <th></th>\n",
       "    </tr>\n",
       "  </thead>\n",
       "  <tbody>\n",
       "    <tr>\n",
       "      <th>gte-large</th>\n",
       "      <td>845.346862</td>\n",
       "      <td>52.692268</td>\n",
       "      <td>42.944809</td>\n",
       "    </tr>\n",
       "    <tr>\n",
       "      <th>gte-medium</th>\n",
       "      <td>828.676659</td>\n",
       "      <td>51.221369</td>\n",
       "      <td>41.792178</td>\n",
       "    </tr>\n",
       "    <tr>\n",
       "      <th>gte-small</th>\n",
       "      <td>820.785662</td>\n",
       "      <td>51.120953</td>\n",
       "      <td>41.237786</td>\n",
       "    </tr>\n",
       "  </tbody>\n",
       "</table>\n",
       "</div>"
      ],
      "text/plain": [
       "                 IA Cores Energy [J]  DRAM Energy [J]  duration [s]\n",
       "embedding_model                                                    \n",
       "gte-large                 845.346862        52.692268     42.944809\n",
       "gte-medium                828.676659        51.221369     41.792178\n",
       "gte-small                 820.785662        51.120953     41.237786"
      ]
     },
     "execution_count": 6,
     "metadata": {},
     "output_type": "execute_result"
    }
   ],
   "source": [
    "index_embeeding_variation_runs.groupby(\"embedding_model\").std()"
   ]
  },
  {
   "cell_type": "code",
   "execution_count": 7,
   "metadata": {},
   "outputs": [
    {
     "data": {
      "text/plain": [
       "KruskalResult(statistic=np.float64(4.269401709401734), pvalue=np.float64(0.11827996798125272))"
      ]
     },
     "execution_count": 7,
     "metadata": {},
     "output_type": "execute_result"
    }
   ],
   "source": [
    "compute_kruskal_wallis(\n",
    "    index_embeeding_variation_runs,\n",
    "    \"embedding_model\",\n",
    "    [\"gte-small\", \"gte-medium\", \"gte-large\"],\n",
    "    \"duration [s]\",\n",
    ")"
   ]
  },
  {
   "cell_type": "code",
   "execution_count": 8,
   "metadata": {},
   "outputs": [
    {
     "data": {
      "text/plain": [
       "KruskalResult(statistic=np.float64(2.1558974358974865), pvalue=np.float64(0.3402928468080614))"
      ]
     },
     "execution_count": 8,
     "metadata": {},
     "output_type": "execute_result"
    }
   ],
   "source": [
    "compute_kruskal_wallis(\n",
    "    index_embeeding_variation_runs,\n",
    "    \"embedding_model\",\n",
    "    [\"gte-small\", \"gte-medium\", \"gte-large\"],\n",
    "    \"IA Cores Energy [J]\",\n",
    ")"
   ]
  },
  {
   "cell_type": "markdown",
   "metadata": {},
   "source": [
    "#### 1.2. Indexing - varying the dataset size"
   ]
  },
  {
   "cell_type": "code",
   "execution_count": 9,
   "metadata": {},
   "outputs": [],
   "source": [
    "indexing_dataset_variation_runs = get_variation_runs_data(\n",
    "    indexing_runs_data,\n",
    "    small_datasets,\n",
    "    medium_datasets,\n",
    "    large_datasets,\n",
    "    \"dataset\",\n",
    "    [\"nfcorpus\", \"arguana\", \"cqadupstack_webmasters\"],\n",
    ")"
   ]
  },
  {
   "cell_type": "code",
   "execution_count": 10,
   "metadata": {},
   "outputs": [
    {
     "data": {
      "text/html": [
       "<div>\n",
       "<style scoped>\n",
       "    .dataframe tbody tr th:only-of-type {\n",
       "        vertical-align: middle;\n",
       "    }\n",
       "\n",
       "    .dataframe tbody tr th {\n",
       "        vertical-align: top;\n",
       "    }\n",
       "\n",
       "    .dataframe thead th {\n",
       "        text-align: right;\n",
       "    }\n",
       "</style>\n",
       "<table border=\"1\" class=\"dataframe\">\n",
       "  <thead>\n",
       "    <tr style=\"text-align: right;\">\n",
       "      <th></th>\n",
       "      <th>IA Cores Energy [J]</th>\n",
       "      <th>DRAM Energy [J]</th>\n",
       "      <th>duration [s]</th>\n",
       "    </tr>\n",
       "    <tr>\n",
       "      <th>dataset</th>\n",
       "      <th></th>\n",
       "      <th></th>\n",
       "      <th></th>\n",
       "    </tr>\n",
       "  </thead>\n",
       "  <tbody>\n",
       "    <tr>\n",
       "      <th>arguana</th>\n",
       "      <td>1255.122583</td>\n",
       "      <td>77.813597</td>\n",
       "      <td>63.462206</td>\n",
       "    </tr>\n",
       "    <tr>\n",
       "      <th>cqadupstack_webmasters</th>\n",
       "      <td>2518.360860</td>\n",
       "      <td>156.230023</td>\n",
       "      <td>127.502182</td>\n",
       "    </tr>\n",
       "    <tr>\n",
       "      <th>nfcorpus</th>\n",
       "      <td>547.698830</td>\n",
       "      <td>33.885770</td>\n",
       "      <td>27.779217</td>\n",
       "    </tr>\n",
       "  </tbody>\n",
       "</table>\n",
       "</div>"
      ],
      "text/plain": [
       "                        IA Cores Energy [J]  DRAM Energy [J]  duration [s]\n",
       "dataset                                                                   \n",
       "arguana                         1255.122583        77.813597     63.462206\n",
       "cqadupstack_webmasters          2518.360860       156.230023    127.502182\n",
       "nfcorpus                         547.698830        33.885770     27.779217"
      ]
     },
     "execution_count": 10,
     "metadata": {},
     "output_type": "execute_result"
    }
   ],
   "source": [
    "indexing_dataset_variation_runs.groupby(\"dataset\").mean()"
   ]
  },
  {
   "cell_type": "code",
   "execution_count": 11,
   "metadata": {},
   "outputs": [
    {
     "data": {
      "text/html": [
       "<div>\n",
       "<style scoped>\n",
       "    .dataframe tbody tr th:only-of-type {\n",
       "        vertical-align: middle;\n",
       "    }\n",
       "\n",
       "    .dataframe tbody tr th {\n",
       "        vertical-align: top;\n",
       "    }\n",
       "\n",
       "    .dataframe thead th {\n",
       "        text-align: right;\n",
       "    }\n",
       "</style>\n",
       "<table border=\"1\" class=\"dataframe\">\n",
       "  <thead>\n",
       "    <tr style=\"text-align: right;\">\n",
       "      <th></th>\n",
       "      <th>IA Cores Energy [J]</th>\n",
       "      <th>DRAM Energy [J]</th>\n",
       "      <th>duration [s]</th>\n",
       "    </tr>\n",
       "    <tr>\n",
       "      <th>dataset</th>\n",
       "      <th></th>\n",
       "      <th></th>\n",
       "      <th></th>\n",
       "    </tr>\n",
       "  </thead>\n",
       "  <tbody>\n",
       "    <tr>\n",
       "      <th>arguana</th>\n",
       "      <td>65.646076</td>\n",
       "      <td>4.771157</td>\n",
       "      <td>1.926374</td>\n",
       "    </tr>\n",
       "    <tr>\n",
       "      <th>cqadupstack_webmasters</th>\n",
       "      <td>90.982672</td>\n",
       "      <td>6.440106</td>\n",
       "      <td>3.109130</td>\n",
       "    </tr>\n",
       "    <tr>\n",
       "      <th>nfcorpus</th>\n",
       "      <td>50.789573</td>\n",
       "      <td>3.222781</td>\n",
       "      <td>1.281596</td>\n",
       "    </tr>\n",
       "  </tbody>\n",
       "</table>\n",
       "</div>"
      ],
      "text/plain": [
       "                        IA Cores Energy [J]  DRAM Energy [J]  duration [s]\n",
       "dataset                                                                   \n",
       "arguana                           65.646076         4.771157      1.926374\n",
       "cqadupstack_webmasters            90.982672         6.440106      3.109130\n",
       "nfcorpus                          50.789573         3.222781      1.281596"
      ]
     },
     "execution_count": 11,
     "metadata": {},
     "output_type": "execute_result"
    }
   ],
   "source": [
    "indexing_dataset_variation_runs.groupby(\"dataset\").std()"
   ]
  },
  {
   "cell_type": "code",
   "execution_count": 12,
   "metadata": {},
   "outputs": [
    {
     "data": {
      "text/plain": [
       "KruskalResult(statistic=np.float64(79.12087912087912), pvalue=np.float64(6.593551417550709e-18))"
      ]
     },
     "execution_count": 12,
     "metadata": {},
     "output_type": "execute_result"
    }
   ],
   "source": [
    "compute_kruskal_wallis(\n",
    "    indexing_dataset_variation_runs,\n",
    "    \"dataset\",\n",
    "    [\"nfcorpus\", \"arguana\", \"cqadupstack_webmasters\"],\n",
    "    \"duration [s]\",\n",
    ")"
   ]
  },
  {
   "cell_type": "code",
   "execution_count": 13,
   "metadata": {},
   "outputs": [
    {
     "data": {
      "text/plain": [
       "KruskalResult(statistic=np.float64(79.12087912087912), pvalue=np.float64(6.593551417550709e-18))"
      ]
     },
     "execution_count": 13,
     "metadata": {},
     "output_type": "execute_result"
    }
   ],
   "source": [
    "compute_kruskal_wallis(\n",
    "    indexing_dataset_variation_runs,\n",
    "    \"dataset\",\n",
    "    [\"nfcorpus\", \"arguana\", \"cqadupstack_webmasters\"],\n",
    "    \"IA Cores Energy [J]\",\n",
    ")"
   ]
  },
  {
   "cell_type": "markdown",
   "metadata": {},
   "source": [
    "### 2. Querying"
   ]
  },
  {
   "cell_type": "markdown",
   "metadata": {},
   "source": [
    "#### 2.1. Querying - varying the embedding size"
   ]
  },
  {
   "cell_type": "code",
   "execution_count": 14,
   "metadata": {},
   "outputs": [],
   "source": [
    "querying_experiments_data = get_experiments_data(\n",
    "    \"rq1_querying\",\n",
    "    [\n",
    "        \"Total DRAM Power [W]\",\n",
    "        \"IA Cores Power [W]\",\n",
    "    ],\n",
    ")\n",
    "\n",
    "querying_runs_data = compute_total_energy_per_run(querying_experiments_data)"
   ]
  },
  {
   "cell_type": "code",
   "execution_count": 15,
   "metadata": {},
   "outputs": [],
   "source": [
    "querying_embeeding_variation_runs = get_variation_runs_data(\n",
    "    querying_runs_data,\n",
    "    small_embeddings,\n",
    "    medium_embeddings,\n",
    "    large_embeddings,\n",
    "    \"embedding_model\",\n",
    "    [\"gte-small\", \"gte-medium\", \"gte-large\"],\n",
    ")"
   ]
  },
  {
   "cell_type": "code",
   "execution_count": 16,
   "metadata": {},
   "outputs": [
    {
     "data": {
      "text/html": [
       "<div>\n",
       "<style scoped>\n",
       "    .dataframe tbody tr th:only-of-type {\n",
       "        vertical-align: middle;\n",
       "    }\n",
       "\n",
       "    .dataframe tbody tr th {\n",
       "        vertical-align: top;\n",
       "    }\n",
       "\n",
       "    .dataframe thead th {\n",
       "        text-align: right;\n",
       "    }\n",
       "</style>\n",
       "<table border=\"1\" class=\"dataframe\">\n",
       "  <thead>\n",
       "    <tr style=\"text-align: right;\">\n",
       "      <th></th>\n",
       "      <th>IA Cores Energy [J]</th>\n",
       "      <th>DRAM Energy [J]</th>\n",
       "      <th>duration [s]</th>\n",
       "    </tr>\n",
       "    <tr>\n",
       "      <th>embedding_model</th>\n",
       "      <th></th>\n",
       "      <th></th>\n",
       "      <th></th>\n",
       "    </tr>\n",
       "  </thead>\n",
       "  <tbody>\n",
       "    <tr>\n",
       "      <th>gte-large</th>\n",
       "      <td>187.060967</td>\n",
       "      <td>11.580730</td>\n",
       "      <td>11.749643</td>\n",
       "    </tr>\n",
       "    <tr>\n",
       "      <th>gte-medium</th>\n",
       "      <td>175.438853</td>\n",
       "      <td>10.854717</td>\n",
       "      <td>10.613021</td>\n",
       "    </tr>\n",
       "    <tr>\n",
       "      <th>gte-small</th>\n",
       "      <td>144.611433</td>\n",
       "      <td>9.019820</td>\n",
       "      <td>9.016228</td>\n",
       "    </tr>\n",
       "  </tbody>\n",
       "</table>\n",
       "</div>"
      ],
      "text/plain": [
       "                 IA Cores Energy [J]  DRAM Energy [J]  duration [s]\n",
       "embedding_model                                                    \n",
       "gte-large                 187.060967        11.580730     11.749643\n",
       "gte-medium                175.438853        10.854717     10.613021\n",
       "gte-small                 144.611433         9.019820      9.016228"
      ]
     },
     "execution_count": 16,
     "metadata": {},
     "output_type": "execute_result"
    }
   ],
   "source": [
    "querying_embeeding_variation_runs.groupby(\"embedding_model\").mean()"
   ]
  },
  {
   "cell_type": "code",
   "execution_count": 17,
   "metadata": {},
   "outputs": [
    {
     "data": {
      "text/html": [
       "<div>\n",
       "<style scoped>\n",
       "    .dataframe tbody tr th:only-of-type {\n",
       "        vertical-align: middle;\n",
       "    }\n",
       "\n",
       "    .dataframe tbody tr th {\n",
       "        vertical-align: top;\n",
       "    }\n",
       "\n",
       "    .dataframe thead th {\n",
       "        text-align: right;\n",
       "    }\n",
       "</style>\n",
       "<table border=\"1\" class=\"dataframe\">\n",
       "  <thead>\n",
       "    <tr style=\"text-align: right;\">\n",
       "      <th></th>\n",
       "      <th>IA Cores Energy [J]</th>\n",
       "      <th>DRAM Energy [J]</th>\n",
       "      <th>duration [s]</th>\n",
       "    </tr>\n",
       "    <tr>\n",
       "      <th>embedding_model</th>\n",
       "      <th></th>\n",
       "      <th></th>\n",
       "      <th></th>\n",
       "    </tr>\n",
       "  </thead>\n",
       "  <tbody>\n",
       "    <tr>\n",
       "      <th>gte-large</th>\n",
       "      <td>17.324038</td>\n",
       "      <td>1.014807</td>\n",
       "      <td>1.315556</td>\n",
       "    </tr>\n",
       "    <tr>\n",
       "      <th>gte-medium</th>\n",
       "      <td>18.530300</td>\n",
       "      <td>1.104326</td>\n",
       "      <td>1.279919</td>\n",
       "    </tr>\n",
       "    <tr>\n",
       "      <th>gte-small</th>\n",
       "      <td>15.393932</td>\n",
       "      <td>0.830029</td>\n",
       "      <td>1.022468</td>\n",
       "    </tr>\n",
       "  </tbody>\n",
       "</table>\n",
       "</div>"
      ],
      "text/plain": [
       "                 IA Cores Energy [J]  DRAM Energy [J]  duration [s]\n",
       "embedding_model                                                    \n",
       "gte-large                  17.324038         1.014807      1.315556\n",
       "gte-medium                 18.530300         1.104326      1.279919\n",
       "gte-small                  15.393932         0.830029      1.022468"
      ]
     },
     "execution_count": 17,
     "metadata": {},
     "output_type": "execute_result"
    }
   ],
   "source": [
    "querying_embeeding_variation_runs.groupby(\"embedding_model\").std()"
   ]
  },
  {
   "cell_type": "code",
   "execution_count": 18,
   "metadata": {},
   "outputs": [
    {
     "data": {
      "text/plain": [
       "KruskalResult(statistic=np.float64(44.50666666666666), pvalue=np.float64(2.1652105243405554e-10))"
      ]
     },
     "execution_count": 18,
     "metadata": {},
     "output_type": "execute_result"
    }
   ],
   "source": [
    "compute_kruskal_wallis(\n",
    "    querying_embeeding_variation_runs,\n",
    "    \"embedding_model\",\n",
    "    [\"gte-small\", \"gte-medium\", \"gte-large\"],\n",
    "    \"duration [s]\",\n",
    ")"
   ]
  },
  {
   "cell_type": "code",
   "execution_count": 19,
   "metadata": {},
   "outputs": [
    {
     "data": {
      "text/plain": [
       "KruskalResult(statistic=np.float64(46.33435897435896), pvalue=np.float64(8.6820401011881e-11))"
      ]
     },
     "execution_count": 19,
     "metadata": {},
     "output_type": "execute_result"
    }
   ],
   "source": [
    "compute_kruskal_wallis(\n",
    "    querying_embeeding_variation_runs,\n",
    "    \"embedding_model\",\n",
    "    [\"gte-small\", \"gte-medium\", \"gte-large\"],\n",
    "    \"IA Cores Energy [J]\",\n",
    ")"
   ]
  },
  {
   "cell_type": "markdown",
   "metadata": {},
   "source": [
    "#### 2.2. Querying - varying the dataset size"
   ]
  },
  {
   "cell_type": "code",
   "execution_count": 20,
   "metadata": {},
   "outputs": [],
   "source": [
    "querying_dataset_varation_runs = get_variation_runs_data(\n",
    "    querying_runs_data,\n",
    "    small_datasets,\n",
    "    medium_datasets,\n",
    "    large_datasets,\n",
    "    \"dataset\",\n",
    "    [\"nfcorpus\", \"arguana\", \"cqadupstack_webmasters\"],\n",
    ")"
   ]
  },
  {
   "cell_type": "code",
   "execution_count": 21,
   "metadata": {},
   "outputs": [
    {
     "data": {
      "text/html": [
       "<div>\n",
       "<style scoped>\n",
       "    .dataframe tbody tr th:only-of-type {\n",
       "        vertical-align: middle;\n",
       "    }\n",
       "\n",
       "    .dataframe tbody tr th {\n",
       "        vertical-align: top;\n",
       "    }\n",
       "\n",
       "    .dataframe thead th {\n",
       "        text-align: right;\n",
       "    }\n",
       "</style>\n",
       "<table border=\"1\" class=\"dataframe\">\n",
       "  <thead>\n",
       "    <tr style=\"text-align: right;\">\n",
       "      <th></th>\n",
       "      <th>IA Cores Energy [J]</th>\n",
       "      <th>DRAM Energy [J]</th>\n",
       "      <th>duration [s]</th>\n",
       "    </tr>\n",
       "    <tr>\n",
       "      <th>dataset</th>\n",
       "      <th></th>\n",
       "      <th></th>\n",
       "      <th></th>\n",
       "    </tr>\n",
       "  </thead>\n",
       "  <tbody>\n",
       "    <tr>\n",
       "      <th>arguana</th>\n",
       "      <td>161.187507</td>\n",
       "      <td>10.024537</td>\n",
       "      <td>9.603548</td>\n",
       "    </tr>\n",
       "    <tr>\n",
       "      <th>cqadupstack_webmasters</th>\n",
       "      <td>157.102220</td>\n",
       "      <td>9.825080</td>\n",
       "      <td>9.678519</td>\n",
       "    </tr>\n",
       "    <tr>\n",
       "      <th>nfcorpus</th>\n",
       "      <td>188.821527</td>\n",
       "      <td>11.605650</td>\n",
       "      <td>12.096826</td>\n",
       "    </tr>\n",
       "  </tbody>\n",
       "</table>\n",
       "</div>"
      ],
      "text/plain": [
       "                        IA Cores Energy [J]  DRAM Energy [J]  duration [s]\n",
       "dataset                                                                   \n",
       "arguana                          161.187507        10.024537      9.603548\n",
       "cqadupstack_webmasters           157.102220         9.825080      9.678519\n",
       "nfcorpus                         188.821527        11.605650     12.096826"
      ]
     },
     "execution_count": 21,
     "metadata": {},
     "output_type": "execute_result"
    }
   ],
   "source": [
    "querying_dataset_varation_runs.groupby(\"dataset\").mean()"
   ]
  },
  {
   "cell_type": "code",
   "execution_count": 22,
   "metadata": {},
   "outputs": [
    {
     "data": {
      "text/html": [
       "<div>\n",
       "<style scoped>\n",
       "    .dataframe tbody tr th:only-of-type {\n",
       "        vertical-align: middle;\n",
       "    }\n",
       "\n",
       "    .dataframe tbody tr th {\n",
       "        vertical-align: top;\n",
       "    }\n",
       "\n",
       "    .dataframe thead th {\n",
       "        text-align: right;\n",
       "    }\n",
       "</style>\n",
       "<table border=\"1\" class=\"dataframe\">\n",
       "  <thead>\n",
       "    <tr style=\"text-align: right;\">\n",
       "      <th></th>\n",
       "      <th>IA Cores Energy [J]</th>\n",
       "      <th>DRAM Energy [J]</th>\n",
       "      <th>duration [s]</th>\n",
       "    </tr>\n",
       "    <tr>\n",
       "      <th>dataset</th>\n",
       "      <th></th>\n",
       "      <th></th>\n",
       "      <th></th>\n",
       "    </tr>\n",
       "  </thead>\n",
       "  <tbody>\n",
       "    <tr>\n",
       "      <th>arguana</th>\n",
       "      <td>22.160110</td>\n",
       "      <td>1.311363</td>\n",
       "      <td>1.031931</td>\n",
       "    </tr>\n",
       "    <tr>\n",
       "      <th>cqadupstack_webmasters</th>\n",
       "      <td>20.137289</td>\n",
       "      <td>1.181364</td>\n",
       "      <td>1.149003</td>\n",
       "    </tr>\n",
       "    <tr>\n",
       "      <th>nfcorpus</th>\n",
       "      <td>19.066076</td>\n",
       "      <td>1.207567</td>\n",
       "      <td>1.329728</td>\n",
       "    </tr>\n",
       "  </tbody>\n",
       "</table>\n",
       "</div>"
      ],
      "text/plain": [
       "                        IA Cores Energy [J]  DRAM Energy [J]  duration [s]\n",
       "dataset                                                                   \n",
       "arguana                           22.160110         1.311363      1.031931\n",
       "cqadupstack_webmasters            20.137289         1.181364      1.149003\n",
       "nfcorpus                          19.066076         1.207567      1.329728"
      ]
     },
     "execution_count": 22,
     "metadata": {},
     "output_type": "execute_result"
    }
   ],
   "source": [
    "querying_dataset_varation_runs.groupby(\"dataset\").std()"
   ]
  },
  {
   "cell_type": "code",
   "execution_count": 23,
   "metadata": {},
   "outputs": [
    {
     "data": {
      "text/plain": [
       "KruskalResult(statistic=np.float64(38.41142857142853), pvalue=np.float64(4.561044029837794e-09))"
      ]
     },
     "execution_count": 23,
     "metadata": {},
     "output_type": "execute_result"
    }
   ],
   "source": [
    "compute_kruskal_wallis(\n",
    "    querying_dataset_varation_runs,\n",
    "    \"dataset\",\n",
    "    [\"nfcorpus\", \"arguana\", \"cqadupstack_webmasters\"],\n",
    "    \"duration [s]\",\n",
    ")"
   ]
  },
  {
   "cell_type": "code",
   "execution_count": 24,
   "metadata": {},
   "outputs": [
    {
     "data": {
      "text/plain": [
       "KruskalResult(statistic=np.float64(27.424273504273458), pvalue=np.float64(1.1089058470793492e-06))"
      ]
     },
     "execution_count": 24,
     "metadata": {},
     "output_type": "execute_result"
    }
   ],
   "source": [
    "compute_kruskal_wallis(\n",
    "    querying_dataset_varation_runs,\n",
    "    \"dataset\",\n",
    "    [\"nfcorpus\", \"arguana\", \"cqadupstack_webmasters\"],\n",
    "    \"IA Cores Energy [J]\",\n",
    ")"
   ]
  }
 ],
 "metadata": {
  "kernelspec": {
   "display_name": "green_lm_inference",
   "language": "python",
   "name": "python3"
  },
  "language_info": {
   "codemirror_mode": {
    "name": "ipython",
    "version": 3
   },
   "file_extension": ".py",
   "mimetype": "text/x-python",
   "name": "python",
   "nbconvert_exporter": "python",
   "pygments_lexer": "ipython3",
   "version": "3.12.5"
  }
 },
 "nbformat": 4,
 "nbformat_minor": 2
}
