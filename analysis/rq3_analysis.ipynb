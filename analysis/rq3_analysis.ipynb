{
 "cells": [
  {
   "cell_type": "markdown",
   "metadata": {},
   "source": [
    "# RQ3\n",
    "\n",
    "How does the embedding model influence resource and energy use?"
   ]
  },
  {
   "cell_type": "code",
   "execution_count": 1,
   "metadata": {},
   "outputs": [],
   "source": [
    "%load_ext autoreload\n",
    "%autoreload 2\n",
    "\n",
    "import copy\n",
    "import pandas as pd\n",
    "import seaborn as sns\n",
    "import matplotlib.pyplot as plt\n",
    "from results_processor import get_experiments_data, compute_total_energy_per_run, get_ci_deviation, compute_wilcoxon\n",
    "\n",
    "plt.style.use(\"ggplot\")\n",
    "colors = sns.cubehelix_palette(start=2, rot=0.1, dark=0.2, light=.95, reverse=True)"
   ]
  },
  {
   "cell_type": "code",
   "execution_count": 2,
   "metadata": {},
   "outputs": [],
   "source": [
    "experiments_data = get_experiments_data(\n",
    "    \"rq3\",\n",
    "    [\"Total DRAM Power [W]\", \"IA Cores Power [W]\", \"GPU Rail Powers (avg) [W]\"],\n",
    "    idle_state=\"Docker running\",\n",
    ")\n",
    "\n",
    "runs_data = compute_total_energy_per_run(experiments_data)"
   ]
  },
  {
   "cell_type": "code",
   "execution_count": 3,
   "metadata": {},
   "outputs": [],
   "source": [
    "embedding_variation_runs = []\n",
    "\n",
    "for embedding_model_name, data in runs_data.items():\n",
    "    data_embedding_variation = copy.deepcopy(data[\"measurements_per_run\"])\n",
    "    data_embedding_variation[\"duration [s]\"] = data[\"durations_per_run\"]\n",
    "    data_embedding_variation[\"model\"] = embedding_model_name.replace(\n",
    "        \"_nfcorpus\", \"\"\n",
    "    ).replace(\"_\", \"-\")\n",
    "\n",
    "    embedding_variation_runs.append(data_embedding_variation)\n",
    "\n",
    "embedding_variation_runs = pd.concat(embedding_variation_runs)"
   ]
  },
  {
   "cell_type": "code",
   "execution_count": 4,
   "metadata": {},
   "outputs": [
    {
     "data": {
      "text/html": [
       "<div>\n",
       "<style scoped>\n",
       "    .dataframe tbody tr th:only-of-type {\n",
       "        vertical-align: middle;\n",
       "    }\n",
       "\n",
       "    .dataframe tbody tr th {\n",
       "        vertical-align: top;\n",
       "    }\n",
       "\n",
       "    .dataframe thead th {\n",
       "        text-align: right;\n",
       "    }\n",
       "</style>\n",
       "<table border=\"1\" class=\"dataframe\">\n",
       "  <thead>\n",
       "    <tr style=\"text-align: right;\">\n",
       "      <th></th>\n",
       "      <th>CPU Cores Energy [J]</th>\n",
       "      <th>DRAM Energy [J]</th>\n",
       "      <th>GPU Energy [J]</th>\n",
       "      <th>duration [s]</th>\n",
       "    </tr>\n",
       "    <tr>\n",
       "      <th>model</th>\n",
       "      <th></th>\n",
       "      <th></th>\n",
       "      <th></th>\n",
       "      <th></th>\n",
       "    </tr>\n",
       "  </thead>\n",
       "  <tbody>\n",
       "    <tr>\n",
       "      <th>gte-base</th>\n",
       "      <td>314.81 ± 5.35</td>\n",
       "      <td>19.31 ± 0.4</td>\n",
       "      <td>7894.51 ± 25.4</td>\n",
       "      <td>242.31 ± 0.37</td>\n",
       "    </tr>\n",
       "    <tr>\n",
       "      <th>gte-large</th>\n",
       "      <td>792.99 ± 122.57</td>\n",
       "      <td>36.02 ± 5.18</td>\n",
       "      <td>19563.35 ± 24.57</td>\n",
       "      <td>621.28 ± 0.37</td>\n",
       "    </tr>\n",
       "    <tr>\n",
       "      <th>gte-small</th>\n",
       "      <td>198.31 ± 2.63</td>\n",
       "      <td>15.8 ± 0.29</td>\n",
       "      <td>2379.56 ± 13.25</td>\n",
       "      <td>89.62 ± 0.09</td>\n",
       "    </tr>\n",
       "  </tbody>\n",
       "</table>\n",
       "</div>"
      ],
      "text/plain": [
       "          CPU Cores Energy [J] DRAM Energy [J]    GPU Energy [J]  \\\n",
       "model                                                              \n",
       "gte-base         314.81 ± 5.35     19.31 ± 0.4    7894.51 ± 25.4   \n",
       "gte-large      792.99 ± 122.57    36.02 ± 5.18  19563.35 ± 24.57   \n",
       "gte-small        198.31 ± 2.63     15.8 ± 0.29   2379.56 ± 13.25   \n",
       "\n",
       "            duration [s]  \n",
       "model                     \n",
       "gte-base   242.31 ± 0.37  \n",
       "gte-large  621.28 ± 0.37  \n",
       "gte-small   89.62 ± 0.09  "
      ]
     },
     "execution_count": 4,
     "metadata": {},
     "output_type": "execute_result"
    }
   ],
   "source": [
    "embedding_variation_runs.groupby(\"model\").aggregate(\n",
    "    lambda x: str(round(x.mean(), 2)) + \" ± \" + str(get_ci_deviation(x))\n",
    ")"
   ]
  },
  {
   "cell_type": "code",
   "execution_count": 5,
   "metadata": {},
   "outputs": [
    {
     "data": {
      "text/html": [
       "<div>\n",
       "<style scoped>\n",
       "    .dataframe tbody tr th:only-of-type {\n",
       "        vertical-align: middle;\n",
       "    }\n",
       "\n",
       "    .dataframe tbody tr th {\n",
       "        vertical-align: top;\n",
       "    }\n",
       "\n",
       "    .dataframe thead th {\n",
       "        text-align: right;\n",
       "    }\n",
       "</style>\n",
       "<table border=\"1\" class=\"dataframe\">\n",
       "  <thead>\n",
       "    <tr style=\"text-align: right;\">\n",
       "      <th></th>\n",
       "      <th>CPU Cores Energy [J]</th>\n",
       "      <th>DRAM Energy [J]</th>\n",
       "      <th>GPU Energy [J]</th>\n",
       "      <th>duration [s]</th>\n",
       "    </tr>\n",
       "    <tr>\n",
       "      <th>model</th>\n",
       "      <th></th>\n",
       "      <th></th>\n",
       "      <th></th>\n",
       "      <th></th>\n",
       "    </tr>\n",
       "  </thead>\n",
       "  <tbody>\n",
       "    <tr>\n",
       "      <th>gte-small</th>\n",
       "      <td>1.000000</td>\n",
       "      <td>1.000000</td>\n",
       "      <td>1.000000</td>\n",
       "      <td>1.000000</td>\n",
       "    </tr>\n",
       "    <tr>\n",
       "      <th>gte-base</th>\n",
       "      <td>1.587454</td>\n",
       "      <td>1.222507</td>\n",
       "      <td>3.317629</td>\n",
       "      <td>2.703557</td>\n",
       "    </tr>\n",
       "    <tr>\n",
       "      <th>gte-large</th>\n",
       "      <td>3.998725</td>\n",
       "      <td>2.280451</td>\n",
       "      <td>8.221402</td>\n",
       "      <td>6.932061</td>\n",
       "    </tr>\n",
       "  </tbody>\n",
       "</table>\n",
       "</div>"
      ],
      "text/plain": [
       "           CPU Cores Energy [J]  DRAM Energy [J]  GPU Energy [J]  duration [s]\n",
       "model                                                                         \n",
       "gte-small              1.000000         1.000000        1.000000      1.000000\n",
       "gte-base               1.587454         1.222507        3.317629      2.703557\n",
       "gte-large              3.998725         2.280451        8.221402      6.932061"
      ]
     },
     "execution_count": 5,
     "metadata": {},
     "output_type": "execute_result"
    }
   ],
   "source": [
    "total_consumption_per_embedding_type = embedding_variation_runs.groupby(\"model\").sum()\n",
    "total_consumption_smallest_embedding = (\n",
    "    embedding_variation_runs.groupby(\"model\").sum().iloc[2, :]\n",
    ")\n",
    "\n",
    "consumption_ratio = total_consumption_per_embedding_type / total_consumption_smallest_embedding\n",
    "consumption_ratio = consumption_ratio.sort_values(\"duration [s]\")\n",
    "consumption_ratio"
   ]
  },
  {
   "cell_type": "code",
   "execution_count": 6,
   "metadata": {},
   "outputs": [],
   "source": [
    "embedding_model = consumption_ratio.index.to_list() * len(consumption_ratio.columns)\n",
    "\n",
    "consumption_ratio = consumption_ratio.melt()\n",
    "consumption_ratio[\"model\"] = embedding_model"
   ]
  },
  {
   "cell_type": "code",
   "execution_count": 18,
   "metadata": {},
   "outputs": [
    {
     "data": {
      "image/png": "[encoded data removed]",
      "text/plain": [
       "<Figure size 1200x600 with 1 Axes>"
      ]
     },
     "metadata": {},
     "output_type": "display_data"
    }
   ],
   "source": [
    "fig, ax = plt.subplots(1, 1)\n",
    "fig.set_size_inches(12, 6)\n",
    "sns.barplot(consumption_ratio, x=\"variable\", y=\"value\", hue=\"model\", palette=colors)\n",
    "plt.ylabel(\"relative value\")\n",
    "plt.xlabel(\"\")\n",
    "plt.title(\"Measurements in relation to gte-small\")\n",
    "fig.savefig(\"./x.png\", dpi=500)"
   ]
  },
  {
   "cell_type": "code",
   "execution_count": 8,
   "metadata": {},
   "outputs": [
    {
     "data": {
      "text/plain": [
       "WilcoxonResult(statistic=np.float64(0.0), pvalue=np.float64(0.0009765625))"
      ]
     },
     "execution_count": 8,
     "metadata": {},
     "output_type": "execute_result"
    }
   ],
   "source": [
    "compute_wilcoxon(\n",
    "    embedding_variation_runs, \"gte-small\", \"gte-base\", \"GPU Energy [J]\", \"model\"\n",
    ")"
   ]
  },
  {
   "cell_type": "code",
   "execution_count": 9,
   "metadata": {},
   "outputs": [
    {
     "data": {
      "text/plain": [
       "WilcoxonResult(statistic=np.float64(0.0), pvalue=np.float64(0.0009765625))"
      ]
     },
     "execution_count": 9,
     "metadata": {},
     "output_type": "execute_result"
    }
   ],
   "source": [
    "compute_wilcoxon(\n",
    "    embedding_variation_runs, \"gte-base\", \"gte-large\", \"GPU Energy [J]\", \"model\"\n",
    ")"
   ]
  },
  {
   "cell_type": "code",
   "execution_count": 10,
   "metadata": {},
   "outputs": [
    {
     "data": {
      "text/plain": [
       "WilcoxonResult(statistic=np.float64(0.0), pvalue=np.float64(0.0009765625))"
      ]
     },
     "execution_count": 10,
     "metadata": {},
     "output_type": "execute_result"
    }
   ],
   "source": [
    "compute_wilcoxon(\n",
    "    embedding_variation_runs, \"gte-small\", \"gte-base\", \"duration [s]\", \"model\"\n",
    ")"
   ]
  },
  {
   "cell_type": "code",
   "execution_count": 11,
   "metadata": {},
   "outputs": [
    {
     "data": {
      "text/plain": [
       "WilcoxonResult(statistic=np.float64(0.0), pvalue=np.float64(0.0009765625))"
      ]
     },
     "execution_count": 11,
     "metadata": {},
     "output_type": "execute_result"
    }
   ],
   "source": [
    "compute_wilcoxon(\n",
    "    embedding_variation_runs, \"gte-base\", \"gte-large\", \"duration [s]\", \"model\"\n",
    ")"
   ]
  }
 ],
 "metadata": {
  "kernelspec": {
   "display_name": "green_lm_inference",
   "language": "python",
   "name": "python3"
  },
  "language_info": {
   "codemirror_mode": {
    "name": "ipython",
    "version": 3
   },
   "file_extension": ".py",
   "mimetype": "text/x-python",
   "name": "python",
   "nbconvert_exporter": "python",
   "pygments_lexer": "ipython3",
   "version": "3.12.5"
  }
 },
 "nbformat": 4,
 "nbformat_minor": 2
}
