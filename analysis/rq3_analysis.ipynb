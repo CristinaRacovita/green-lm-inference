{
 "cells": [
  {
   "cell_type": "markdown",
   "metadata": {},
   "source": [
    "# RQ3\n",
    "\n",
    "How does the embedding model influence resource and energy use?"
   ]
  },
  {
   "cell_type": "code",
   "execution_count": 116,
   "metadata": {},
   "outputs": [
    {
     "name": "stdout",
     "output_type": "stream",
     "text": [
      "The autoreload extension is already loaded. To reload it, use:\n",
      "  %reload_ext autoreload\n"
     ]
    }
   ],
   "source": [
    "%load_ext autoreload\n",
    "%autoreload 2\n",
    "\n",
    "import copy\n",
    "import numpy as np\n",
    "import pandas as pd\n",
    "import seaborn as sns\n",
    "import matplotlib.pyplot as plt\n",
    "from results_processor import get_experiments_data, compute_total_energy_per_run, get_ci_deviation, compute_wilcoxon\n",
    "\n",
    "plt.style.use(\"ggplot\")\n",
    "colors = sns.cubehelix_palette(start=2, rot=0.1, dark=0.2, light=.95, reverse=True)"
   ]
  },
  {
   "cell_type": "code",
   "execution_count": 30,
   "metadata": {},
   "outputs": [],
   "source": [
    "experiments_data = get_experiments_data(\n",
    "    \"rq3\",\n",
    "    [\"Total DRAM Power [W]\", \"IA Cores Power [W]\", \"GPU Rail Powers (avg) [W]\"],\n",
    ")\n",
    "\n",
    "runs_data = compute_total_energy_per_run(experiments_data)"
   ]
  },
  {
   "cell_type": "code",
   "execution_count": 31,
   "metadata": {},
   "outputs": [],
   "source": [
    "embedding_variation_runs = []\n",
    "\n",
    "for embedding_model_name, data in runs_data.items():\n",
    "    data_embedding_variation = copy.deepcopy(data[\"measurements_per_run\"])\n",
    "    data_embedding_variation[\"duration [s]\"] = data[\"durations_per_run\"]\n",
    "    data_embedding_variation[\"embedding_model\"] = embedding_model_name.replace(\n",
    "        \"_nfcorpus\", \"\"\n",
    "    ).replace(\"_\", \"-\")\n",
    "\n",
    "    embedding_variation_runs.append(data_embedding_variation)\n",
    "\n",
    "embedding_variation_runs = pd.concat(embedding_variation_runs)"
   ]
  },
  {
   "cell_type": "code",
   "execution_count": 88,
   "metadata": {},
   "outputs": [
    {
     "data": {
      "text/html": [
       "<div>\n",
       "<style scoped>\n",
       "    .dataframe tbody tr th:only-of-type {\n",
       "        vertical-align: middle;\n",
       "    }\n",
       "\n",
       "    .dataframe tbody tr th {\n",
       "        vertical-align: top;\n",
       "    }\n",
       "\n",
       "    .dataframe thead th {\n",
       "        text-align: right;\n",
       "    }\n",
       "</style>\n",
       "<table border=\"1\" class=\"dataframe\">\n",
       "  <thead>\n",
       "    <tr style=\"text-align: right;\">\n",
       "      <th></th>\n",
       "      <th>IA Cores Energy [J]</th>\n",
       "      <th>DRAM Energy [J]</th>\n",
       "      <th>GPU Energy [J]</th>\n",
       "      <th>duration [s]</th>\n",
       "    </tr>\n",
       "    <tr>\n",
       "      <th>embedding_model</th>\n",
       "      <th></th>\n",
       "      <th></th>\n",
       "      <th></th>\n",
       "      <th></th>\n",
       "    </tr>\n",
       "  </thead>\n",
       "  <tbody>\n",
       "    <tr>\n",
       "      <th>gte-base</th>\n",
       "      <td>1549.46 ± 5.51</td>\n",
       "      <td>150.71 ± 0.5</td>\n",
       "      <td>7232.06 ± 23.11</td>\n",
       "      <td>242.31 ± 0.37</td>\n",
       "    </tr>\n",
       "    <tr>\n",
       "      <th>gte-large</th>\n",
       "      <td>3960.83 ± 109.72</td>\n",
       "      <td>374.26 ± 4.55</td>\n",
       "      <td>17926.52 ± 22.39</td>\n",
       "      <td>621.28 ± 0.37</td>\n",
       "    </tr>\n",
       "    <tr>\n",
       "      <th>gte-small</th>\n",
       "      <td>647.81 ± 2.69</td>\n",
       "      <td>63.64 ± 0.3</td>\n",
       "      <td>2183.68 ± 12.04</td>\n",
       "      <td>89.62 ± 0.09</td>\n",
       "    </tr>\n",
       "  </tbody>\n",
       "</table>\n",
       "</div>"
      ],
      "text/plain": [
       "                IA Cores Energy [J] DRAM Energy [J]    GPU Energy [J]  \\\n",
       "embedding_model                                                         \n",
       "gte-base             1549.46 ± 5.51    150.71 ± 0.5   7232.06 ± 23.11   \n",
       "gte-large          3960.83 ± 109.72   374.26 ± 4.55  17926.52 ± 22.39   \n",
       "gte-small             647.81 ± 2.69     63.64 ± 0.3   2183.68 ± 12.04   \n",
       "\n",
       "                  duration [s]  \n",
       "embedding_model                 \n",
       "gte-base         242.31 ± 0.37  \n",
       "gte-large        621.28 ± 0.37  \n",
       "gte-small         89.62 ± 0.09  "
      ]
     },
     "execution_count": 88,
     "metadata": {},
     "output_type": "execute_result"
    }
   ],
   "source": [
    "embedding_variation_runs.groupby(\"embedding_model\").aggregate(\n",
    "    lambda x: str(round(x.mean(), 2)) + \" ± \" + str(get_ci_deviation(x))\n",
    ")"
   ]
  },
  {
   "cell_type": "code",
   "execution_count": 89,
   "metadata": {},
   "outputs": [
    {
     "data": {
      "text/html": [
       "<div>\n",
       "<style scoped>\n",
       "    .dataframe tbody tr th:only-of-type {\n",
       "        vertical-align: middle;\n",
       "    }\n",
       "\n",
       "    .dataframe tbody tr th {\n",
       "        vertical-align: top;\n",
       "    }\n",
       "\n",
       "    .dataframe thead th {\n",
       "        text-align: right;\n",
       "    }\n",
       "</style>\n",
       "<table border=\"1\" class=\"dataframe\">\n",
       "  <thead>\n",
       "    <tr style=\"text-align: right;\">\n",
       "      <th></th>\n",
       "      <th>IA Cores Energy [J]</th>\n",
       "      <th>DRAM Energy [J]</th>\n",
       "      <th>GPU Energy [J]</th>\n",
       "      <th>duration [s]</th>\n",
       "    </tr>\n",
       "    <tr>\n",
       "      <th>embedding_model</th>\n",
       "      <th></th>\n",
       "      <th></th>\n",
       "      <th></th>\n",
       "      <th></th>\n",
       "    </tr>\n",
       "  </thead>\n",
       "  <tbody>\n",
       "    <tr>\n",
       "      <th>gte-small</th>\n",
       "      <td>1.000000</td>\n",
       "      <td>1.000000</td>\n",
       "      <td>1.000000</td>\n",
       "      <td>1.000000</td>\n",
       "    </tr>\n",
       "    <tr>\n",
       "      <th>gte-base</th>\n",
       "      <td>2.391835</td>\n",
       "      <td>2.368152</td>\n",
       "      <td>3.311866</td>\n",
       "      <td>2.703557</td>\n",
       "    </tr>\n",
       "    <tr>\n",
       "      <th>gte-large</th>\n",
       "      <td>6.114158</td>\n",
       "      <td>5.880715</td>\n",
       "      <td>8.209313</td>\n",
       "      <td>6.932061</td>\n",
       "    </tr>\n",
       "  </tbody>\n",
       "</table>\n",
       "</div>"
      ],
      "text/plain": [
       "                 IA Cores Energy [J]  DRAM Energy [J]  GPU Energy [J]  \\\n",
       "embedding_model                                                         \n",
       "gte-small                   1.000000         1.000000        1.000000   \n",
       "gte-base                    2.391835         2.368152        3.311866   \n",
       "gte-large                   6.114158         5.880715        8.209313   \n",
       "\n",
       "                 duration [s]  \n",
       "embedding_model                \n",
       "gte-small            1.000000  \n",
       "gte-base             2.703557  \n",
       "gte-large            6.932061  "
      ]
     },
     "execution_count": 89,
     "metadata": {},
     "output_type": "execute_result"
    }
   ],
   "source": [
    "total_consumption_per_embedding_type = embedding_variation_runs.groupby(\n",
    "    \"embedding_model\"\n",
    ").sum()\n",
    "total_consumption_smallest_embedding = (\n",
    "    embedding_variation_runs.groupby(\"embedding_model\").sum().iloc[2, :]\n",
    ")\n",
    "\n",
    "consumption_ratio = (\n",
    "    total_consumption_per_embedding_type / total_consumption_smallest_embedding\n",
    ")\n",
    "consumption_ratio = consumption_ratio.sort_values(\"duration [s]\")\n",
    "consumption_ratio"
   ]
  },
  {
   "cell_type": "code",
   "execution_count": 90,
   "metadata": {},
   "outputs": [],
   "source": [
    "embedding_model = consumption_ratio.index.to_list() * len(consumption_ratio.columns)\n",
    "\n",
    "consumption_ratio = consumption_ratio.melt()\n",
    "consumption_ratio[\"embedding_model\"] = embedding_model"
   ]
  },
  {
   "cell_type": "code",
   "execution_count": 138,
   "metadata": {},
   "outputs": [
    {
     "data": {
      "text/plain": [
       "Text(0.5, 1.0, 'Measurements in relation with gte-small embedding model')"
      ]
     },
     "execution_count": 138,
     "metadata": {},
     "output_type": "execute_result"
    },
    {
     "data": {
      "image/png": "[encoded data removed]",
      "text/plain": [
       "<Figure size 1200x600 with 1 Axes>"
      ]
     },
     "metadata": {},
     "output_type": "display_data"
    }
   ],
   "source": [
    "fig, ax = plt.subplots(1, 1)\n",
    "fig.set_size_inches(12, 6)\n",
    "sns.barplot(consumption_ratio, x=\"variable\", y=\"value\", hue=\"embedding_model\", palette=colors)\n",
    "plt.ylabel(\"value divided by gte-small measurement\")\n",
    "plt.xlabel(\"\")\n",
    "plt.title(\"Measurements in relation with gte-small embedding model\")"
   ]
  },
  {
   "cell_type": "code",
   "execution_count": 119,
   "metadata": {},
   "outputs": [
    {
     "data": {
      "text/plain": [
       "WilcoxonResult(statistic=np.float64(0.0), pvalue=np.float64(0.0009765625))"
      ]
     },
     "execution_count": 119,
     "metadata": {},
     "output_type": "execute_result"
    }
   ],
   "source": [
    "compute_wilcoxon(embedding_variation_runs, \"gte-small\", \"gte-base\", \"GPU Energy [J]\")"
   ]
  },
  {
   "cell_type": "code",
   "execution_count": 118,
   "metadata": {},
   "outputs": [
    {
     "data": {
      "text/plain": [
       "WilcoxonResult(statistic=np.float64(0.0), pvalue=np.float64(0.0009765625))"
      ]
     },
     "execution_count": 118,
     "metadata": {},
     "output_type": "execute_result"
    }
   ],
   "source": [
    "compute_wilcoxon(embedding_variation_runs, \"gte-base\", \"gte-large\", \"GPU Energy [J]\")"
   ]
  },
  {
   "cell_type": "code",
   "execution_count": 120,
   "metadata": {},
   "outputs": [
    {
     "data": {
      "text/plain": [
       "WilcoxonResult(statistic=np.float64(0.0), pvalue=np.float64(0.0009765625))"
      ]
     },
     "execution_count": 120,
     "metadata": {},
     "output_type": "execute_result"
    }
   ],
   "source": [
    "compute_wilcoxon(embedding_variation_runs, \"gte-small\", \"gte-base\", \"duration [s]\")"
   ]
  },
  {
   "cell_type": "code",
   "execution_count": 121,
   "metadata": {},
   "outputs": [
    {
     "data": {
      "text/plain": [
       "WilcoxonResult(statistic=np.float64(0.0), pvalue=np.float64(0.0009765625))"
      ]
     },
     "execution_count": 121,
     "metadata": {},
     "output_type": "execute_result"
    }
   ],
   "source": [
    "compute_wilcoxon(embedding_variation_runs, \"gte-base\", \"gte-large\", \"duration [s]\")"
   ]
  }
 ],
 "metadata": {
  "kernelspec": {
   "display_name": "green_lm_inference",
   "language": "python",
   "name": "python3"
  },
  "language_info": {
   "codemirror_mode": {
    "name": "ipython",
    "version": 3
   },
   "file_extension": ".py",
   "mimetype": "text/x-python",
   "name": "python",
   "nbconvert_exporter": "python",
   "pygments_lexer": "ipython3",
   "version": "3.12.5"
  }
 },
 "nbformat": 4,
 "nbformat_minor": 2
}
