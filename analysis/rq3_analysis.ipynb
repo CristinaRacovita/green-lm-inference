{
 "cells": [
  {
   "cell_type": "markdown",
   "metadata": {},
   "source": [
    "# RQ3\n",
    "\n",
    "How does the embedding model influence resource and energy use?"
   ]
  },
  {
   "cell_type": "code",
   "execution_count": 42,
   "metadata": {},
   "outputs": [
    {
     "name": "stdout",
     "output_type": "stream",
     "text": [
      "The autoreload extension is already loaded. To reload it, use:\n",
      "  %reload_ext autoreload\n"
     ]
    }
   ],
   "source": [
    "%load_ext autoreload\n",
    "%autoreload 2\n",
    "\n",
    "import copy\n",
    "import pandas as pd\n",
    "from results_processor import get_experiments_data, compute_total_energy_per_run, get_variation_runs_data, compute_kruskal_wallis"
   ]
  },
  {
   "cell_type": "code",
   "execution_count": 43,
   "metadata": {},
   "outputs": [],
   "source": [
    "experiments_data = get_experiments_data(\n",
    "    \"rq3\",\n",
    "    [\"Total DRAM Power [W]\", \"IA Cores Power [W]\", \"GPU Rail Powers (avg) [W]\"],\n",
    ")\n",
    "\n",
    "runs_data = compute_total_energy_per_run(experiments_data)"
   ]
  },
  {
   "cell_type": "code",
   "execution_count": 50,
   "metadata": {},
   "outputs": [],
   "source": [
    "embedding_variation_runs = []\n",
    "\n",
    "for embedding_model_name, data in runs_data.items():\n",
    "    data_embedding_variation = copy.deepcopy(data[\"measurements_per_run\"])\n",
    "    data_embedding_variation[\"duration\"] = data[\"durations_per_run\"]\n",
    "    data_embedding_variation[\"embedding_model\"] = embedding_model_name.replace(\n",
    "        \"_nfcorpus\", \"\"\n",
    "    ).replace(\"_\", \"-\")\n",
    "\n",
    "    embedding_variation_runs.append(data_embedding_variation)\n",
    "\n",
    "embedding_variation_runs = pd.concat(embedding_variation_runs)"
   ]
  },
  {
   "cell_type": "code",
   "execution_count": 45,
   "metadata": {},
   "outputs": [
    {
     "data": {
      "text/html": [
       "<div>\n",
       "<style scoped>\n",
       "    .dataframe tbody tr th:only-of-type {\n",
       "        vertical-align: middle;\n",
       "    }\n",
       "\n",
       "    .dataframe tbody tr th {\n",
       "        vertical-align: top;\n",
       "    }\n",
       "\n",
       "    .dataframe thead th {\n",
       "        text-align: right;\n",
       "    }\n",
       "</style>\n",
       "<table border=\"1\" class=\"dataframe\">\n",
       "  <thead>\n",
       "    <tr style=\"text-align: right;\">\n",
       "      <th></th>\n",
       "      <th>IA Cores Energy [J]</th>\n",
       "      <th>DRAM Energy [J]</th>\n",
       "      <th>GPU Energy [J]</th>\n",
       "      <th>duration</th>\n",
       "    </tr>\n",
       "    <tr>\n",
       "      <th>embedding_model</th>\n",
       "      <th></th>\n",
       "      <th></th>\n",
       "      <th></th>\n",
       "      <th></th>\n",
       "    </tr>\n",
       "  </thead>\n",
       "  <tbody>\n",
       "    <tr>\n",
       "      <th>gte-base</th>\n",
       "      <td>1549.46147</td>\n",
       "      <td>150.71270</td>\n",
       "      <td>7232.05916</td>\n",
       "      <td>242.305867</td>\n",
       "    </tr>\n",
       "    <tr>\n",
       "      <th>gte-large</th>\n",
       "      <td>3960.83026</td>\n",
       "      <td>374.25735</td>\n",
       "      <td>17926.52176</td>\n",
       "      <td>621.284805</td>\n",
       "    </tr>\n",
       "    <tr>\n",
       "      <th>gte-small</th>\n",
       "      <td>647.81286</td>\n",
       "      <td>63.64147</td>\n",
       "      <td>2183.68123</td>\n",
       "      <td>89.624836</td>\n",
       "    </tr>\n",
       "  </tbody>\n",
       "</table>\n",
       "</div>"
      ],
      "text/plain": [
       "                 IA Cores Energy [J]  DRAM Energy [J]  GPU Energy [J]  \\\n",
       "embedding_model                                                         \n",
       "gte-base                  1549.46147        150.71270      7232.05916   \n",
       "gte-large                 3960.83026        374.25735     17926.52176   \n",
       "gte-small                  647.81286         63.64147      2183.68123   \n",
       "\n",
       "                   duration  \n",
       "embedding_model              \n",
       "gte-base         242.305867  \n",
       "gte-large        621.284805  \n",
       "gte-small         89.624836  "
      ]
     },
     "execution_count": 45,
     "metadata": {},
     "output_type": "execute_result"
    }
   ],
   "source": [
    "embedding_variation_runs.groupby(\"embedding_model\").mean()"
   ]
  },
  {
   "cell_type": "code",
   "execution_count": 51,
   "metadata": {},
   "outputs": [
    {
     "data": {
      "text/html": [
       "<div>\n",
       "<style scoped>\n",
       "    .dataframe tbody tr th:only-of-type {\n",
       "        vertical-align: middle;\n",
       "    }\n",
       "\n",
       "    .dataframe tbody tr th {\n",
       "        vertical-align: top;\n",
       "    }\n",
       "\n",
       "    .dataframe thead th {\n",
       "        text-align: right;\n",
       "    }\n",
       "</style>\n",
       "<table border=\"1\" class=\"dataframe\">\n",
       "  <thead>\n",
       "    <tr style=\"text-align: right;\">\n",
       "      <th></th>\n",
       "      <th>IA Cores Energy [J]</th>\n",
       "      <th>DRAM Energy [J]</th>\n",
       "      <th>GPU Energy [J]</th>\n",
       "      <th>duration</th>\n",
       "    </tr>\n",
       "    <tr>\n",
       "      <th>embedding_model</th>\n",
       "      <th></th>\n",
       "      <th></th>\n",
       "      <th></th>\n",
       "      <th></th>\n",
       "    </tr>\n",
       "  </thead>\n",
       "  <tbody>\n",
       "    <tr>\n",
       "      <th>gte-base</th>\n",
       "      <td>8.886426</td>\n",
       "      <td>0.799858</td>\n",
       "      <td>37.291625</td>\n",
       "      <td>0.601396</td>\n",
       "    </tr>\n",
       "    <tr>\n",
       "      <th>gte-large</th>\n",
       "      <td>177.030433</td>\n",
       "      <td>7.342029</td>\n",
       "      <td>36.122263</td>\n",
       "      <td>0.604015</td>\n",
       "    </tr>\n",
       "    <tr>\n",
       "      <th>gte-small</th>\n",
       "      <td>4.345837</td>\n",
       "      <td>0.480859</td>\n",
       "      <td>19.425145</td>\n",
       "      <td>0.143353</td>\n",
       "    </tr>\n",
       "  </tbody>\n",
       "</table>\n",
       "</div>"
      ],
      "text/plain": [
       "                 IA Cores Energy [J]  DRAM Energy [J]  GPU Energy [J]  \\\n",
       "embedding_model                                                         \n",
       "gte-base                    8.886426         0.799858       37.291625   \n",
       "gte-large                 177.030433         7.342029       36.122263   \n",
       "gte-small                   4.345837         0.480859       19.425145   \n",
       "\n",
       "                 duration  \n",
       "embedding_model            \n",
       "gte-base         0.601396  \n",
       "gte-large        0.604015  \n",
       "gte-small        0.143353  "
      ]
     },
     "execution_count": 51,
     "metadata": {},
     "output_type": "execute_result"
    }
   ],
   "source": [
    "embedding_variation_runs.groupby(\"embedding_model\").std()"
   ]
  },
  {
   "cell_type": "code",
   "execution_count": 74,
   "metadata": {},
   "outputs": [],
   "source": [
    "def get_dev(values):\n",
    "    return round(1.96 * values.std() / len(values), 2)"
   ]
  },
  {
   "cell_type": "code",
   "execution_count": 77,
   "metadata": {},
   "outputs": [
    {
     "data": {
      "text/html": [
       "<div>\n",
       "<style scoped>\n",
       "    .dataframe tbody tr th:only-of-type {\n",
       "        vertical-align: middle;\n",
       "    }\n",
       "\n",
       "    .dataframe tbody tr th {\n",
       "        vertical-align: top;\n",
       "    }\n",
       "\n",
       "    .dataframe thead th {\n",
       "        text-align: right;\n",
       "    }\n",
       "</style>\n",
       "<table border=\"1\" class=\"dataframe\">\n",
       "  <thead>\n",
       "    <tr style=\"text-align: right;\">\n",
       "      <th></th>\n",
       "      <th>IA Cores Energy [J]</th>\n",
       "      <th>DRAM Energy [J]</th>\n",
       "      <th>GPU Energy [J]</th>\n",
       "      <th>duration</th>\n",
       "    </tr>\n",
       "    <tr>\n",
       "      <th>embedding_model</th>\n",
       "      <th></th>\n",
       "      <th></th>\n",
       "      <th></th>\n",
       "      <th></th>\n",
       "    </tr>\n",
       "  </thead>\n",
       "  <tbody>\n",
       "    <tr>\n",
       "      <th>gte-base</th>\n",
       "      <td>1549.46 +- 1.74</td>\n",
       "      <td>150.71 +- 0.16</td>\n",
       "      <td>7232.06 +- 7.31</td>\n",
       "      <td>242.31 +- 0.12</td>\n",
       "    </tr>\n",
       "    <tr>\n",
       "      <th>gte-large</th>\n",
       "      <td>3960.83 +- 34.7</td>\n",
       "      <td>374.26 +- 1.44</td>\n",
       "      <td>17926.52 +- 7.08</td>\n",
       "      <td>621.28 +- 0.12</td>\n",
       "    </tr>\n",
       "    <tr>\n",
       "      <th>gte-small</th>\n",
       "      <td>647.81 +- 0.85</td>\n",
       "      <td>63.64 +- 0.09</td>\n",
       "      <td>2183.68 +- 3.81</td>\n",
       "      <td>89.62 +- 0.03</td>\n",
       "    </tr>\n",
       "  </tbody>\n",
       "</table>\n",
       "</div>"
      ],
      "text/plain": [
       "                IA Cores Energy [J] DRAM Energy [J]    GPU Energy [J]  \\\n",
       "embedding_model                                                         \n",
       "gte-base            1549.46 +- 1.74  150.71 +- 0.16   7232.06 +- 7.31   \n",
       "gte-large           3960.83 +- 34.7  374.26 +- 1.44  17926.52 +- 7.08   \n",
       "gte-small            647.81 +- 0.85   63.64 +- 0.09   2183.68 +- 3.81   \n",
       "\n",
       "                       duration  \n",
       "embedding_model                  \n",
       "gte-base         242.31 +- 0.12  \n",
       "gte-large        621.28 +- 0.12  \n",
       "gte-small         89.62 +- 0.03  "
      ]
     },
     "execution_count": 77,
     "metadata": {},
     "output_type": "execute_result"
    }
   ],
   "source": [
    "embedding_variation_runs.groupby(\"embedding_model\").aggregate(\n",
    "    lambda x: str(round(x.mean(), 2)) + \" +- \" + str(get_dev(x))\n",
    ")"
   ]
  },
  {
   "cell_type": "code",
   "execution_count": 49,
   "metadata": {},
   "outputs": [
    {
     "data": {
      "text/plain": [
       "<Axes: ylabel='Frequency'>"
      ]
     },
     "execution_count": 49,
     "metadata": {},
     "output_type": "execute_result"
    },
    {
     "data": {
      "image/png": "[encoded data removed]",
      "text/plain": [
       "<Figure size 640x480 with 1 Axes>"
      ]
     },
     "metadata": {},
     "output_type": "display_data"
    }
   ],
   "source": [
    "embedding_variation_runs[embedding_variation_runs[\"embedding_model\"] == \"gte-large\"][\n",
    "    \"GPU Energy [J]\"\n",
    "].plot(kind=\"hist\")"
   ]
  }
 ],
 "metadata": {
  "kernelspec": {
   "display_name": "green_lm_inference",
   "language": "python",
   "name": "python3"
  },
  "language_info": {
   "codemirror_mode": {
    "name": "ipython",
    "version": 3
   },
   "file_extension": ".py",
   "mimetype": "text/x-python",
   "name": "python",
   "nbconvert_exporter": "python",
   "pygments_lexer": "ipython3",
   "version": "3.12.5"
  }
 },
 "nbformat": 4,
 "nbformat_minor": 2
}
