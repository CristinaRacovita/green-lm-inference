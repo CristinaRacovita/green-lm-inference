{
 "cells": [
  {
   "cell_type": "markdown",
   "metadata": {},
   "source": [
    "# RQ2\n",
    "\n",
    "To what extent can the choice of the vector DB diminish resource usage?"
   ]
  },
  {
   "cell_type": "code",
   "execution_count": 1,
   "metadata": {},
   "outputs": [],
   "source": [
    "%load_ext autoreload\n",
    "%autoreload 2\n",
    "\n",
    "from results_processor import get_experiments_data, compute_total_energy_per_run, get_variation_runs_data, get_ci_deviation, compute_kruskal_wallis, compute_wilcoxon"
   ]
  },
  {
   "cell_type": "markdown",
   "metadata": {},
   "source": [
    "### 1. Indexing "
   ]
  },
  {
   "cell_type": "code",
   "execution_count": 2,
   "metadata": {},
   "outputs": [],
   "source": [
    "indexing_experiments_data = get_experiments_data(\n",
    "    \"rq2_indexing\",\n",
    "    [\n",
    "        \"Total DRAM Power [W]\",\n",
    "        \"IA Cores Power [W]\",\n",
    "    ],\n",
    "    idle_state=\"Docker running\",\n",
    ")\n",
    "indexing_runs_data = compute_total_energy_per_run(indexing_experiments_data)"
   ]
  },
  {
   "cell_type": "code",
   "execution_count": 18,
   "metadata": {},
   "outputs": [],
   "source": [
    "index_db_variation_runs = get_variation_runs_data(\n",
    "    indexing_runs_data,\n",
    "    [\"gte_base_cqadupstack_webmasters_milvus\"],\n",
    "    [\"gte_base_cqadupstack_webmasters_qdrant\"],\n",
    "    [\"gte_base_cqadupstack_webmasters_weaviate\"],\n",
    "    \"database\",\n",
    "    [\"milvus\", \"qdrant\", \"weaviate\"],\n",
    ")\n",
    "\n",
    "index_db_variation_runs[\"CPU Cores and DRAM Energy [J]\"] = (\n",
    "    index_db_variation_runs[\"CPU Cores Energy [J]\"] + index_db_variation_runs[\"DRAM Energy [J]\"]\n",
    ")"
   ]
  },
  {
   "cell_type": "code",
   "execution_count": 19,
   "metadata": {},
   "outputs": [
    {
     "data": {
      "text/html": [
       "<div>\n",
       "<style scoped>\n",
       "    .dataframe tbody tr th:only-of-type {\n",
       "        vertical-align: middle;\n",
       "    }\n",
       "\n",
       "    .dataframe tbody tr th {\n",
       "        vertical-align: top;\n",
       "    }\n",
       "\n",
       "    .dataframe thead th {\n",
       "        text-align: right;\n",
       "    }\n",
       "</style>\n",
       "<table border=\"1\" class=\"dataframe\">\n",
       "  <thead>\n",
       "    <tr style=\"text-align: right;\">\n",
       "      <th></th>\n",
       "      <th>CPU Cores Energy [J]</th>\n",
       "      <th>DRAM Energy [J]</th>\n",
       "      <th>duration [s]</th>\n",
       "      <th>CPU Cores and DRAM Energy [J]</th>\n",
       "    </tr>\n",
       "    <tr>\n",
       "      <th>database</th>\n",
       "      <th></th>\n",
       "      <th></th>\n",
       "      <th></th>\n",
       "      <th></th>\n",
       "    </tr>\n",
       "  </thead>\n",
       "  <tbody>\n",
       "    <tr>\n",
       "      <th>milvus</th>\n",
       "      <td>2142.85 ± 115.0</td>\n",
       "      <td>100.7 ± 6.63</td>\n",
       "      <td>132.04 ± 2.16</td>\n",
       "      <td>2243.56 ± 121.39</td>\n",
       "    </tr>\n",
       "    <tr>\n",
       "      <th>qdrant</th>\n",
       "      <td>2333.64 ± 30.18</td>\n",
       "      <td>106.59 ± 3.2</td>\n",
       "      <td>351.55 ± 18.21</td>\n",
       "      <td>2440.23 ± 33.18</td>\n",
       "    </tr>\n",
       "    <tr>\n",
       "      <th>weaviate</th>\n",
       "      <td>199.29 ± 4.74</td>\n",
       "      <td>14.0 ± 0.43</td>\n",
       "      <td>10.99 ± 0.19</td>\n",
       "      <td>213.28 ± 5.16</td>\n",
       "    </tr>\n",
       "  </tbody>\n",
       "</table>\n",
       "</div>"
      ],
      "text/plain": [
       "         CPU Cores Energy [J] DRAM Energy [J]    duration [s]  \\\n",
       "database                                                        \n",
       "milvus        2142.85 ± 115.0    100.7 ± 6.63   132.04 ± 2.16   \n",
       "qdrant        2333.64 ± 30.18    106.59 ± 3.2  351.55 ± 18.21   \n",
       "weaviate        199.29 ± 4.74     14.0 ± 0.43    10.99 ± 0.19   \n",
       "\n",
       "         CPU Cores and DRAM Energy [J]  \n",
       "database                                \n",
       "milvus                2243.56 ± 121.39  \n",
       "qdrant                 2440.23 ± 33.18  \n",
       "weaviate                 213.28 ± 5.16  "
      ]
     },
     "execution_count": 19,
     "metadata": {},
     "output_type": "execute_result"
    }
   ],
   "source": [
    "index_db_variation_runs.groupby(\"database\").aggregate(\n",
    "    lambda x: str(round(x.mean(), 2)) + \" ± \" + str(get_ci_deviation(x))\n",
    ")"
   ]
  },
  {
   "cell_type": "code",
   "execution_count": 5,
   "metadata": {},
   "outputs": [
    {
     "data": {
      "text/plain": [
       "WilcoxonResult(statistic=np.float64(0.0), pvalue=np.float64(0.0009765625))"
      ]
     },
     "execution_count": 5,
     "metadata": {},
     "output_type": "execute_result"
    }
   ],
   "source": [
    "compute_wilcoxon(index_db_variation_runs, \"weaviate\", \"milvus\", \"CPU Cores Energy [J]\", \"database\")"
   ]
  },
  {
   "cell_type": "code",
   "execution_count": 6,
   "metadata": {},
   "outputs": [
    {
     "data": {
      "text/plain": [
       "WilcoxonResult(statistic=np.float64(4.0), pvalue=np.float64(0.0068359375))"
      ]
     },
     "execution_count": 6,
     "metadata": {},
     "output_type": "execute_result"
    }
   ],
   "source": [
    "compute_wilcoxon(index_db_variation_runs, \"milvus\", \"qdrant\", \"CPU Cores Energy [J]\", \"database\")"
   ]
  },
  {
   "cell_type": "code",
   "execution_count": 7,
   "metadata": {},
   "outputs": [
    {
     "data": {
      "text/plain": [
       "WilcoxonResult(statistic=np.float64(0.0), pvalue=np.float64(0.0009765625))"
      ]
     },
     "execution_count": 7,
     "metadata": {},
     "output_type": "execute_result"
    }
   ],
   "source": [
    "compute_wilcoxon(index_db_variation_runs, \"weaviate\", \"milvus\", \"duration [s]\", \"database\")"
   ]
  },
  {
   "cell_type": "code",
   "execution_count": 8,
   "metadata": {},
   "outputs": [
    {
     "data": {
      "text/plain": [
       "WilcoxonResult(statistic=np.float64(0.0), pvalue=np.float64(0.0009765625))"
      ]
     },
     "execution_count": 8,
     "metadata": {},
     "output_type": "execute_result"
    }
   ],
   "source": [
    "compute_wilcoxon(index_db_variation_runs, \"milvus\", \"qdrant\", \"duration [s]\", \"database\")"
   ]
  },
  {
   "cell_type": "markdown",
   "metadata": {},
   "source": [
    "### 2. Querying "
   ]
  },
  {
   "cell_type": "code",
   "execution_count": 9,
   "metadata": {},
   "outputs": [],
   "source": [
    "querying_experiments_data = get_experiments_data(\n",
    "    \"rq2_querying\",\n",
    "    [\n",
    "        \"Total DRAM Power [W]\",\n",
    "        \"IA Cores Power [W]\",\n",
    "    ],\n",
    ")\n",
    "querying_runs_data = compute_total_energy_per_run(querying_experiments_data)"
   ]
  },
  {
   "cell_type": "code",
   "execution_count": 10,
   "metadata": {},
   "outputs": [],
   "source": [
    "query_db_variation_runs = get_variation_runs_data(\n",
    "    querying_runs_data,\n",
    "    [\"gte_base_cqadupstack_webmasters_milvus\"],\n",
    "    [\"gte_base_cqadupstack_webmasters_qdrant\"],\n",
    "    [\"gte_base_cqadupstack_webmasters_weaviate\"],\n",
    "    \"database\",\n",
    "    [\"milvus\", \"qdrant\", \"weaviate\"],\n",
    ")\n",
    "\n",
    "query_db_variation_runs[\"CPU Cores and DRAM Energy [J]\"] = (\n",
    "    query_db_variation_runs[\"CPU Cores Energy [J]\"] + query_db_variation_runs[\"DRAM Energy [J]\"]\n",
    ")"
   ]
  },
  {
   "cell_type": "code",
   "execution_count": 11,
   "metadata": {},
   "outputs": [
    {
     "data": {
      "text/html": [
       "<div>\n",
       "<style scoped>\n",
       "    .dataframe tbody tr th:only-of-type {\n",
       "        vertical-align: middle;\n",
       "    }\n",
       "\n",
       "    .dataframe tbody tr th {\n",
       "        vertical-align: top;\n",
       "    }\n",
       "\n",
       "    .dataframe thead th {\n",
       "        text-align: right;\n",
       "    }\n",
       "</style>\n",
       "<table border=\"1\" class=\"dataframe\">\n",
       "  <thead>\n",
       "    <tr style=\"text-align: right;\">\n",
       "      <th></th>\n",
       "      <th>CPU Cores Energy [J]</th>\n",
       "      <th>DRAM Energy [J]</th>\n",
       "      <th>duration [s]</th>\n",
       "      <th>CPU Cores and DRAM Energy [J]</th>\n",
       "    </tr>\n",
       "    <tr>\n",
       "      <th>database</th>\n",
       "      <th></th>\n",
       "      <th></th>\n",
       "      <th></th>\n",
       "      <th></th>\n",
       "    </tr>\n",
       "  </thead>\n",
       "  <tbody>\n",
       "    <tr>\n",
       "      <th>milvus</th>\n",
       "      <td>120.4 ± 3.3</td>\n",
       "      <td>4.8 ± 0.19</td>\n",
       "      <td>9.93 ± 0.11</td>\n",
       "      <td>125.2 ± 3.48</td>\n",
       "    </tr>\n",
       "    <tr>\n",
       "      <th>qdrant</th>\n",
       "      <td>125.71 ± 11.09</td>\n",
       "      <td>7.08 ± 0.8</td>\n",
       "      <td>8.91 ± 0.18</td>\n",
       "      <td>132.78 ± 11.89</td>\n",
       "    </tr>\n",
       "    <tr>\n",
       "      <th>weaviate</th>\n",
       "      <td>25.02 ± 0.47</td>\n",
       "      <td>1.24 ± 0.04</td>\n",
       "      <td>2.14 ± 0.02</td>\n",
       "      <td>26.26 ± 0.5</td>\n",
       "    </tr>\n",
       "  </tbody>\n",
       "</table>\n",
       "</div>"
      ],
      "text/plain": [
       "         CPU Cores Energy [J] DRAM Energy [J] duration [s]  \\\n",
       "database                                                     \n",
       "milvus            120.4 ± 3.3      4.8 ± 0.19  9.93 ± 0.11   \n",
       "qdrant         125.71 ± 11.09      7.08 ± 0.8  8.91 ± 0.18   \n",
       "weaviate         25.02 ± 0.47     1.24 ± 0.04  2.14 ± 0.02   \n",
       "\n",
       "         CPU Cores and DRAM Energy [J]  \n",
       "database                                \n",
       "milvus                    125.2 ± 3.48  \n",
       "qdrant                  132.78 ± 11.89  \n",
       "weaviate                   26.26 ± 0.5  "
      ]
     },
     "execution_count": 11,
     "metadata": {},
     "output_type": "execute_result"
    }
   ],
   "source": [
    "query_db_variation_runs.groupby(\"database\").aggregate(\n",
    "    lambda x: str(round(x.mean(), 2)) + \" ± \" + str(get_ci_deviation(x))\n",
    ")"
   ]
  },
  {
   "cell_type": "code",
   "execution_count": 12,
   "metadata": {},
   "outputs": [
    {
     "data": {
      "text/plain": [
       "WilcoxonResult(statistic=np.float64(0.0), pvalue=np.float64(0.0009765625))"
      ]
     },
     "execution_count": 12,
     "metadata": {},
     "output_type": "execute_result"
    }
   ],
   "source": [
    "compute_wilcoxon(\n",
    "    query_db_variation_runs, \"weaviate\", \"milvus\", \"CPU Cores and DRAM Energy [J]\", \"database\"\n",
    ")"
   ]
  },
  {
   "cell_type": "code",
   "execution_count": 13,
   "metadata": {},
   "outputs": [
    {
     "data": {
      "text/plain": [
       "WilcoxonResult(statistic=np.float64(21.0), pvalue=np.float64(0.2783203125))"
      ]
     },
     "execution_count": 13,
     "metadata": {},
     "output_type": "execute_result"
    }
   ],
   "source": [
    "compute_wilcoxon(\n",
    "    query_db_variation_runs, \"milvus\", \"qdrant\", \"CPU Cores and DRAM Energy [J]\", \"database\"\n",
    ")"
   ]
  },
  {
   "cell_type": "code",
   "execution_count": 14,
   "metadata": {},
   "outputs": [
    {
     "data": {
      "text/plain": [
       "WilcoxonResult(statistic=np.float64(34.0), pvalue=np.float64(0.75390625))"
      ]
     },
     "execution_count": 14,
     "metadata": {},
     "output_type": "execute_result"
    }
   ],
   "source": [
    "compute_wilcoxon(\n",
    "    query_db_variation_runs, \"qdrant\", \"milvus\", \"CPU Cores and DRAM Energy [J]\", \"database\"\n",
    ")"
   ]
  },
  {
   "cell_type": "code",
   "execution_count": 15,
   "metadata": {},
   "outputs": [
    {
     "data": {
      "text/plain": [
       "KruskalResult(statistic=np.float64(0.28000000000000114), pvalue=np.float64(0.5967012167293555))"
      ]
     },
     "execution_count": 15,
     "metadata": {},
     "output_type": "execute_result"
    }
   ],
   "source": [
    "compute_kruskal_wallis(\n",
    "    query_db_variation_runs, \"database\", [\"qdrant\", \"milvus\"], \"CPU Cores and DRAM Energy [J]\"\n",
    ")"
   ]
  },
  {
   "cell_type": "code",
   "execution_count": 16,
   "metadata": {},
   "outputs": [
    {
     "data": {
      "text/plain": [
       "WilcoxonResult(statistic=np.float64(0.0), pvalue=np.float64(0.0009765625))"
      ]
     },
     "execution_count": 16,
     "metadata": {},
     "output_type": "execute_result"
    }
   ],
   "source": [
    "compute_wilcoxon(query_db_variation_runs, \"weaviate\", \"milvus\", \"duration [s]\", \"database\")"
   ]
  },
  {
   "cell_type": "code",
   "execution_count": 17,
   "metadata": {},
   "outputs": [
    {
     "data": {
      "text/plain": [
       "WilcoxonResult(statistic=np.float64(0.0), pvalue=np.float64(0.0009765625))"
      ]
     },
     "execution_count": 17,
     "metadata": {},
     "output_type": "execute_result"
    }
   ],
   "source": [
    "compute_wilcoxon(query_db_variation_runs, \"qdrant\", \"milvus\", \"duration [s]\", \"database\")"
   ]
  }
 ],
 "metadata": {
  "kernelspec": {
   "display_name": "green_lm_inference",
   "language": "python",
   "name": "python3"
  },
  "language_info": {
   "codemirror_mode": {
    "name": "ipython",
    "version": 3
   },
   "file_extension": ".py",
   "mimetype": "text/x-python",
   "name": "python",
   "nbconvert_exporter": "python",
   "pygments_lexer": "ipython3",
   "version": "3.12.5"
  }
 },
 "nbformat": 4,
 "nbformat_minor": 2
}
