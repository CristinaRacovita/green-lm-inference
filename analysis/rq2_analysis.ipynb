{
 "cells": [
  {
   "cell_type": "markdown",
   "metadata": {},
   "source": [
    "# RQ2\n",
    "\n",
    "To what extent can the choice of the vector DB diminish resource usage?"
   ]
  },
  {
   "cell_type": "code",
   "execution_count": 1,
   "metadata": {},
   "outputs": [],
   "source": [
    "%load_ext autoreload\n",
    "%autoreload 2\n",
    "\n",
    "from results_processor import get_experiments_data, compute_total_energy_per_run, get_variation_runs_data, get_ci_deviation, compute_kruskal_wallis, compute_wilcoxon"
   ]
  },
  {
   "cell_type": "markdown",
   "metadata": {},
   "source": [
    "### 1. Indexing "
   ]
  },
  {
   "cell_type": "code",
   "execution_count": 2,
   "metadata": {},
   "outputs": [],
   "source": [
    "indexing_experiments_data = get_experiments_data(\n",
    "    \"rq2_indexing\",\n",
    "    [\n",
    "        \"Total DRAM Power [W]\",\n",
    "        \"IA Cores Power [W]\",\n",
    "    ],\n",
    ")\n",
    "indexing_runs_data = compute_total_energy_per_run(indexing_experiments_data)"
   ]
  },
  {
   "cell_type": "code",
   "execution_count": 3,
   "metadata": {},
   "outputs": [],
   "source": [
    "index_db_variation_runs = get_variation_runs_data(\n",
    "    indexing_runs_data,\n",
    "    [\"gte_base_cqadupstack_webmasters_milvus\"],\n",
    "    [\"gte_base_cqadupstack_webmasters_qdrant\"],\n",
    "    [\"gte_base_cqadupstack_webmasters_weaviate\"],\n",
    "    \"database\",\n",
    "    [\"milvus\", \"qdrant\", \"weaviate\"],\n",
    ")"
   ]
  },
  {
   "cell_type": "code",
   "execution_count": 4,
   "metadata": {},
   "outputs": [
    {
     "data": {
      "text/html": [
       "<div>\n",
       "<style scoped>\n",
       "    .dataframe tbody tr th:only-of-type {\n",
       "        vertical-align: middle;\n",
       "    }\n",
       "\n",
       "    .dataframe tbody tr th {\n",
       "        vertical-align: top;\n",
       "    }\n",
       "\n",
       "    .dataframe thead th {\n",
       "        text-align: right;\n",
       "    }\n",
       "</style>\n",
       "<table border=\"1\" class=\"dataframe\">\n",
       "  <thead>\n",
       "    <tr style=\"text-align: right;\">\n",
       "      <th></th>\n",
       "      <th>IA Cores Energy [J]</th>\n",
       "      <th>DRAM Energy [J]</th>\n",
       "      <th>duration [s]</th>\n",
       "    </tr>\n",
       "    <tr>\n",
       "      <th>database</th>\n",
       "      <th></th>\n",
       "      <th></th>\n",
       "      <th></th>\n",
       "    </tr>\n",
       "  </thead>\n",
       "  <tbody>\n",
       "    <tr>\n",
       "      <th>milvus</th>\n",
       "      <td>2625.1 ± 114.38</td>\n",
       "      <td>162.91 ± 7.08</td>\n",
       "      <td>132.04 ± 2.16</td>\n",
       "    </tr>\n",
       "    <tr>\n",
       "      <th>qdrant</th>\n",
       "      <td>3938.37 ± 75.24</td>\n",
       "      <td>288.41 ± 7.3</td>\n",
       "      <td>351.55 ± 18.21</td>\n",
       "    </tr>\n",
       "    <tr>\n",
       "      <th>weaviate</th>\n",
       "      <td>237.56 ± 5.34</td>\n",
       "      <td>18.67 ± 0.5</td>\n",
       "      <td>10.99 ± 0.19</td>\n",
       "    </tr>\n",
       "  </tbody>\n",
       "</table>\n",
       "</div>"
      ],
      "text/plain": [
       "         IA Cores Energy [J] DRAM Energy [J]    duration [s]\n",
       "database                                                    \n",
       "milvus       2625.1 ± 114.38   162.91 ± 7.08   132.04 ± 2.16\n",
       "qdrant       3938.37 ± 75.24    288.41 ± 7.3  351.55 ± 18.21\n",
       "weaviate       237.56 ± 5.34     18.67 ± 0.5    10.99 ± 0.19"
      ]
     },
     "execution_count": 4,
     "metadata": {},
     "output_type": "execute_result"
    }
   ],
   "source": [
    "index_db_variation_runs.groupby(\"database\").aggregate(\n",
    "    lambda x: str(round(x.mean(), 2)) + \" ± \" + str(get_ci_deviation(x))\n",
    ")"
   ]
  },
  {
   "cell_type": "code",
   "execution_count": 5,
   "metadata": {},
   "outputs": [
    {
     "data": {
      "text/plain": [
       "WilcoxonResult(statistic=np.float64(0.0), pvalue=np.float64(0.0009765625))"
      ]
     },
     "execution_count": 5,
     "metadata": {},
     "output_type": "execute_result"
    }
   ],
   "source": [
    "compute_wilcoxon(index_db_variation_runs, \"weaviate\", \"milvus\", \"IA Cores Energy [J]\", \"database\")"
   ]
  },
  {
   "cell_type": "code",
   "execution_count": 6,
   "metadata": {},
   "outputs": [
    {
     "data": {
      "text/plain": [
       "WilcoxonResult(statistic=np.float64(0.0), pvalue=np.float64(0.0009765625))"
      ]
     },
     "execution_count": 6,
     "metadata": {},
     "output_type": "execute_result"
    }
   ],
   "source": [
    "compute_wilcoxon(index_db_variation_runs, \"milvus\", \"qdrant\", \"IA Cores Energy [J]\", \"database\")"
   ]
  },
  {
   "cell_type": "code",
   "execution_count": 7,
   "metadata": {},
   "outputs": [
    {
     "data": {
      "text/plain": [
       "WilcoxonResult(statistic=np.float64(0.0), pvalue=np.float64(0.0009765625))"
      ]
     },
     "execution_count": 7,
     "metadata": {},
     "output_type": "execute_result"
    }
   ],
   "source": [
    "compute_wilcoxon(index_db_variation_runs, \"weaviate\", \"milvus\", \"duration [s]\", \"database\")"
   ]
  },
  {
   "cell_type": "code",
   "execution_count": 8,
   "metadata": {},
   "outputs": [
    {
     "data": {
      "text/plain": [
       "WilcoxonResult(statistic=np.float64(0.0), pvalue=np.float64(0.0009765625))"
      ]
     },
     "execution_count": 8,
     "metadata": {},
     "output_type": "execute_result"
    }
   ],
   "source": [
    "compute_wilcoxon(index_db_variation_runs, \"milvus\", \"qdrant\", \"duration [s]\", \"database\")"
   ]
  },
  {
   "cell_type": "markdown",
   "metadata": {},
   "source": [
    "### 2. Querying "
   ]
  },
  {
   "cell_type": "code",
   "execution_count": 9,
   "metadata": {},
   "outputs": [],
   "source": [
    "querying_experiments_data = get_experiments_data(\n",
    "    \"rq2_querying\",\n",
    "    [\n",
    "        \"Total DRAM Power [W]\",\n",
    "        \"IA Cores Power [W]\",\n",
    "    ],\n",
    ")\n",
    "querying_runs_data = compute_total_energy_per_run(querying_experiments_data)"
   ]
  },
  {
   "cell_type": "code",
   "execution_count": 10,
   "metadata": {},
   "outputs": [],
   "source": [
    "query_db_variation_runs = get_variation_runs_data(\n",
    "    querying_runs_data,\n",
    "    [\"gte_base_cqadupstack_webmasters_milvus\"],\n",
    "    [\"gte_base_cqadupstack_webmasters_qdrant\"],\n",
    "    [\"gte_base_cqadupstack_webmasters_weaviate\"],\n",
    "    \"database\",\n",
    "    [\"milvus\", \"qdrant\", \"weaviate\"],\n",
    ")\n",
    "\n",
    "query_db_variation_runs[\"IA Cores and DRAM Energy [J]\"] = (\n",
    "    query_db_variation_runs[\"IA Cores Energy [J]\"] + query_db_variation_runs[\"DRAM Energy [J]\"]\n",
    ")"
   ]
  },
  {
   "cell_type": "code",
   "execution_count": 11,
   "metadata": {},
   "outputs": [
    {
     "data": {
      "text/html": [
       "<div>\n",
       "<style scoped>\n",
       "    .dataframe tbody tr th:only-of-type {\n",
       "        vertical-align: middle;\n",
       "    }\n",
       "\n",
       "    .dataframe tbody tr th {\n",
       "        vertical-align: top;\n",
       "    }\n",
       "\n",
       "    .dataframe thead th {\n",
       "        text-align: right;\n",
       "    }\n",
       "</style>\n",
       "<table border=\"1\" class=\"dataframe\">\n",
       "  <thead>\n",
       "    <tr style=\"text-align: right;\">\n",
       "      <th></th>\n",
       "      <th>IA Cores Energy [J]</th>\n",
       "      <th>DRAM Energy [J]</th>\n",
       "      <th>duration [s]</th>\n",
       "      <th>IA Cores and DRAM Energy [J]</th>\n",
       "    </tr>\n",
       "    <tr>\n",
       "      <th>database</th>\n",
       "      <th></th>\n",
       "      <th></th>\n",
       "      <th></th>\n",
       "      <th></th>\n",
       "    </tr>\n",
       "  </thead>\n",
       "  <tbody>\n",
       "    <tr>\n",
       "      <th>milvus</th>\n",
       "      <td>155.71 ± 3.45</td>\n",
       "      <td>9.7 ± 0.22</td>\n",
       "      <td>9.93 ± 0.11</td>\n",
       "      <td>165.41 ± 3.67</td>\n",
       "    </tr>\n",
       "    <tr>\n",
       "      <th>qdrant</th>\n",
       "      <td>155.37 ± 9.42</td>\n",
       "      <td>11.17 ± 0.65</td>\n",
       "      <td>8.91 ± 0.18</td>\n",
       "      <td>166.54 ± 10.07</td>\n",
       "    </tr>\n",
       "    <tr>\n",
       "      <th>weaviate</th>\n",
       "      <td>32.81 ± 0.42</td>\n",
       "      <td>2.29 ± 0.03</td>\n",
       "      <td>2.14 ± 0.02</td>\n",
       "      <td>35.1 ± 0.45</td>\n",
       "    </tr>\n",
       "  </tbody>\n",
       "</table>\n",
       "</div>"
      ],
      "text/plain": [
       "         IA Cores Energy [J] DRAM Energy [J] duration [s]  \\\n",
       "database                                                    \n",
       "milvus         155.71 ± 3.45      9.7 ± 0.22  9.93 ± 0.11   \n",
       "qdrant         155.37 ± 9.42    11.17 ± 0.65  8.91 ± 0.18   \n",
       "weaviate        32.81 ± 0.42     2.29 ± 0.03  2.14 ± 0.02   \n",
       "\n",
       "         IA Cores and DRAM Energy [J]  \n",
       "database                               \n",
       "milvus                  165.41 ± 3.67  \n",
       "qdrant                 166.54 ± 10.07  \n",
       "weaviate                  35.1 ± 0.45  "
      ]
     },
     "execution_count": 11,
     "metadata": {},
     "output_type": "execute_result"
    }
   ],
   "source": [
    "query_db_variation_runs.groupby(\"database\").aggregate(\n",
    "    lambda x: str(round(x.mean(), 2)) + \" ± \" + str(get_ci_deviation(x))\n",
    ")"
   ]
  },
  {
   "cell_type": "code",
   "execution_count": 12,
   "metadata": {},
   "outputs": [
    {
     "data": {
      "text/plain": [
       "WilcoxonResult(statistic=np.float64(0.0), pvalue=np.float64(0.0009765625))"
      ]
     },
     "execution_count": 12,
     "metadata": {},
     "output_type": "execute_result"
    }
   ],
   "source": [
    "compute_wilcoxon(\n",
    "    query_db_variation_runs, \"weaviate\", \"milvus\", \"IA Cores and DRAM Energy [J]\", \"database\"\n",
    ")"
   ]
  },
  {
   "cell_type": "code",
   "execution_count": 13,
   "metadata": {},
   "outputs": [
    {
     "data": {
      "text/plain": [
       "WilcoxonResult(statistic=np.float64(24.0), pvalue=np.float64(0.384765625))"
      ]
     },
     "execution_count": 13,
     "metadata": {},
     "output_type": "execute_result"
    }
   ],
   "source": [
    "compute_wilcoxon(\n",
    "    query_db_variation_runs, \"milvus\", \"qdrant\", \"IA Cores and DRAM Energy [J]\", \"database\"\n",
    ")"
   ]
  },
  {
   "cell_type": "code",
   "execution_count": 14,
   "metadata": {},
   "outputs": [
    {
     "data": {
      "text/plain": [
       "WilcoxonResult(statistic=np.float64(31.0), pvalue=np.float64(0.65234375))"
      ]
     },
     "execution_count": 14,
     "metadata": {},
     "output_type": "execute_result"
    }
   ],
   "source": [
    "compute_wilcoxon(\n",
    "    query_db_variation_runs, \"qdrant\", \"milvus\", \"IA Cores and DRAM Energy [J]\", \"database\"\n",
    ")"
   ]
  },
  {
   "cell_type": "code",
   "execution_count": 15,
   "metadata": {},
   "outputs": [
    {
     "data": {
      "text/plain": [
       "KruskalResult(statistic=np.float64(0.5714285714285694), pvalue=np.float64(0.4496917979688917))"
      ]
     },
     "execution_count": 15,
     "metadata": {},
     "output_type": "execute_result"
    }
   ],
   "source": [
    "compute_kruskal_wallis(\n",
    "    query_db_variation_runs, \"database\", [\"qdrant\", \"milvus\"], \"IA Cores and DRAM Energy [J]\"\n",
    ")"
   ]
  },
  {
   "cell_type": "code",
   "execution_count": 16,
   "metadata": {},
   "outputs": [
    {
     "data": {
      "text/plain": [
       "WilcoxonResult(statistic=np.float64(0.0), pvalue=np.float64(0.0009765625))"
      ]
     },
     "execution_count": 16,
     "metadata": {},
     "output_type": "execute_result"
    }
   ],
   "source": [
    "compute_wilcoxon(query_db_variation_runs, \"weaviate\", \"milvus\", \"duration [s]\", \"database\")"
   ]
  },
  {
   "cell_type": "code",
   "execution_count": 17,
   "metadata": {},
   "outputs": [
    {
     "data": {
      "text/plain": [
       "WilcoxonResult(statistic=np.float64(0.0), pvalue=np.float64(0.0009765625))"
      ]
     },
     "execution_count": 17,
     "metadata": {},
     "output_type": "execute_result"
    }
   ],
   "source": [
    "compute_wilcoxon(query_db_variation_runs, \"qdrant\", \"milvus\", \"duration [s]\", \"database\")"
   ]
  }
 ],
 "metadata": {
  "kernelspec": {
   "display_name": "green_lm_inference",
   "language": "python",
   "name": "python3"
  },
  "language_info": {
   "codemirror_mode": {
    "name": "ipython",
    "version": 3
   },
   "file_extension": ".py",
   "mimetype": "text/x-python",
   "name": "python",
   "nbconvert_exporter": "python",
   "pygments_lexer": "ipython3",
   "version": "3.12.5"
  }
 },
 "nbformat": 4,
 "nbformat_minor": 2
}
