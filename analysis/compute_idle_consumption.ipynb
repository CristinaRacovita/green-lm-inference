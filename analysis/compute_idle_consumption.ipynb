{
 "cells": [
  {
   "cell_type": "markdown",
   "metadata": {},
   "source": [
    "# Compute average idle consumption \n",
    "When noting is running on the machine and when only Docker is running"
   ]
  },
  {
   "cell_type": "code",
   "execution_count": 1,
   "metadata": {},
   "outputs": [],
   "source": [
    "%load_ext autoreload\n",
    "%autoreload 2\n",
    "\n",
    "from results_processor import load_idle_recordings, get_base_consumption\n"
   ]
  },
  {
   "cell_type": "code",
   "execution_count": 2,
   "metadata": {},
   "outputs": [],
   "source": [
    "measurements, timestamps = load_idle_recordings()"
   ]
  },
  {
   "cell_type": "code",
   "execution_count": 3,
   "metadata": {},
   "outputs": [
    {
     "data": {
      "text/html": [
       "<div>\n",
       "<style scoped>\n",
       "    .dataframe tbody tr th:only-of-type {\n",
       "        vertical-align: middle;\n",
       "    }\n",
       "\n",
       "    .dataframe tbody tr th {\n",
       "        vertical-align: top;\n",
       "    }\n",
       "\n",
       "    .dataframe thead th {\n",
       "        text-align: right;\n",
       "    }\n",
       "</style>\n",
       "<table border=\"1\" class=\"dataframe\">\n",
       "  <thead>\n",
       "    <tr style=\"text-align: right;\">\n",
       "      <th></th>\n",
       "      <th>IA Cores Power [W]</th>\n",
       "      <th>Total DRAM Power [W]</th>\n",
       "      <th>GPU Rail Powers (avg) [W]</th>\n",
       "      <th>timestamp</th>\n",
       "    </tr>\n",
       "  </thead>\n",
       "  <tbody>\n",
       "    <tr>\n",
       "      <th>0</th>\n",
       "      <td>4.428</td>\n",
       "      <td>0.655</td>\n",
       "      <td>0.273</td>\n",
       "      <td>2024-10-28 19:26:50.623</td>\n",
       "    </tr>\n",
       "    <tr>\n",
       "      <th>1</th>\n",
       "      <td>16.956</td>\n",
       "      <td>1.067</td>\n",
       "      <td>0.273</td>\n",
       "      <td>2024-10-28 19:26:50.681</td>\n",
       "    </tr>\n",
       "    <tr>\n",
       "      <th>2</th>\n",
       "      <td>12.478</td>\n",
       "      <td>0.995</td>\n",
       "      <td>0.273</td>\n",
       "      <td>2024-10-28 19:26:50.795</td>\n",
       "    </tr>\n",
       "    <tr>\n",
       "      <th>3</th>\n",
       "      <td>8.473</td>\n",
       "      <td>0.620</td>\n",
       "      <td>0.273</td>\n",
       "      <td>2024-10-28 19:26:50.905</td>\n",
       "    </tr>\n",
       "    <tr>\n",
       "      <th>4</th>\n",
       "      <td>10.729</td>\n",
       "      <td>0.789</td>\n",
       "      <td>0.273</td>\n",
       "      <td>2024-10-28 19:26:51.014</td>\n",
       "    </tr>\n",
       "    <tr>\n",
       "      <th>...</th>\n",
       "      <td>...</td>\n",
       "      <td>...</td>\n",
       "      <td>...</td>\n",
       "      <td>...</td>\n",
       "    </tr>\n",
       "    <tr>\n",
       "      <th>13535</th>\n",
       "      <td>17.494</td>\n",
       "      <td>0.995</td>\n",
       "      <td>0.249</td>\n",
       "      <td>2024-10-28 19:52:01.734</td>\n",
       "    </tr>\n",
       "    <tr>\n",
       "      <th>13536</th>\n",
       "      <td>17.494</td>\n",
       "      <td>0.995</td>\n",
       "      <td>0.249</td>\n",
       "      <td>2024-10-28 19:52:01.846</td>\n",
       "    </tr>\n",
       "    <tr>\n",
       "      <th>13537</th>\n",
       "      <td>18.968</td>\n",
       "      <td>1.040</td>\n",
       "      <td>0.001</td>\n",
       "      <td>2024-10-28 19:52:02.033</td>\n",
       "    </tr>\n",
       "    <tr>\n",
       "      <th>13538</th>\n",
       "      <td>20.084</td>\n",
       "      <td>1.084</td>\n",
       "      <td>0.000</td>\n",
       "      <td>2024-10-28 19:52:02.115</td>\n",
       "    </tr>\n",
       "    <tr>\n",
       "      <th>13539</th>\n",
       "      <td>20.084</td>\n",
       "      <td>1.084</td>\n",
       "      <td>0.000</td>\n",
       "      <td>2024-10-28 19:52:02.172</td>\n",
       "    </tr>\n",
       "  </tbody>\n",
       "</table>\n",
       "<p>13540 rows × 4 columns</p>\n",
       "</div>"
      ],
      "text/plain": [
       "       IA Cores Power [W]  Total DRAM Power [W]  GPU Rail Powers (avg) [W]  \\\n",
       "0                   4.428                 0.655                      0.273   \n",
       "1                  16.956                 1.067                      0.273   \n",
       "2                  12.478                 0.995                      0.273   \n",
       "3                   8.473                 0.620                      0.273   \n",
       "4                  10.729                 0.789                      0.273   \n",
       "...                   ...                   ...                        ...   \n",
       "13535              17.494                 0.995                      0.249   \n",
       "13536              17.494                 0.995                      0.249   \n",
       "13537              18.968                 1.040                      0.001   \n",
       "13538              20.084                 1.084                      0.000   \n",
       "13539              20.084                 1.084                      0.000   \n",
       "\n",
       "                    timestamp  \n",
       "0     2024-10-28 19:26:50.623  \n",
       "1     2024-10-28 19:26:50.681  \n",
       "2     2024-10-28 19:26:50.795  \n",
       "3     2024-10-28 19:26:50.905  \n",
       "4     2024-10-28 19:26:51.014  \n",
       "...                       ...  \n",
       "13535 2024-10-28 19:52:01.734  \n",
       "13536 2024-10-28 19:52:01.846  \n",
       "13537 2024-10-28 19:52:02.033  \n",
       "13538 2024-10-28 19:52:02.115  \n",
       "13539 2024-10-28 19:52:02.172  \n",
       "\n",
       "[13540 rows x 4 columns]"
      ]
     },
     "execution_count": 3,
     "metadata": {},
     "output_type": "execute_result"
    }
   ],
   "source": [
    "measurements"
   ]
  },
  {
   "cell_type": "code",
   "execution_count": 4,
   "metadata": {},
   "outputs": [
    {
     "data": {
      "text/html": [
       "<div>\n",
       "<style scoped>\n",
       "    .dataframe tbody tr th:only-of-type {\n",
       "        vertical-align: middle;\n",
       "    }\n",
       "\n",
       "    .dataframe tbody tr th {\n",
       "        vertical-align: top;\n",
       "    }\n",
       "\n",
       "    .dataframe thead th {\n",
       "        text-align: right;\n",
       "    }\n",
       "</style>\n",
       "<table border=\"1\" class=\"dataframe\">\n",
       "  <thead>\n",
       "    <tr style=\"text-align: right;\">\n",
       "      <th></th>\n",
       "      <th>timestamp_name</th>\n",
       "      <th>timestamp_value</th>\n",
       "    </tr>\n",
       "  </thead>\n",
       "  <tbody>\n",
       "    <tr>\n",
       "      <th>0</th>\n",
       "      <td>idle state</td>\n",
       "      <td>2024-10-28 19:40:22.253336</td>\n",
       "    </tr>\n",
       "    <tr>\n",
       "      <th>1</th>\n",
       "      <td>Docker running</td>\n",
       "      <td>2024-10-28 19:51:33.213976</td>\n",
       "    </tr>\n",
       "  </tbody>\n",
       "</table>\n",
       "</div>"
      ],
      "text/plain": [
       "   timestamp_name            timestamp_value\n",
       "0      idle state 2024-10-28 19:40:22.253336\n",
       "1  Docker running 2024-10-28 19:51:33.213976"
      ]
     },
     "execution_count": 4,
     "metadata": {},
     "output_type": "execute_result"
    }
   ],
   "source": [
    "timestamps"
   ]
  },
  {
   "cell_type": "code",
   "execution_count": 5,
   "metadata": {},
   "outputs": [
    {
     "data": {
      "text/html": [
       "<div>\n",
       "<style scoped>\n",
       "    .dataframe tbody tr th:only-of-type {\n",
       "        vertical-align: middle;\n",
       "    }\n",
       "\n",
       "    .dataframe tbody tr th {\n",
       "        vertical-align: top;\n",
       "    }\n",
       "\n",
       "    .dataframe thead th {\n",
       "        text-align: right;\n",
       "    }\n",
       "</style>\n",
       "<table border=\"1\" class=\"dataframe\">\n",
       "  <thead>\n",
       "    <tr style=\"text-align: right;\">\n",
       "      <th></th>\n",
       "      <th>Total DRAM Power [W]</th>\n",
       "      <th>IA Cores Power [W]</th>\n",
       "      <th>GPU Rail Powers (avg) [W]</th>\n",
       "    </tr>\n",
       "  </thead>\n",
       "  <tbody>\n",
       "    <tr>\n",
       "      <th>0</th>\n",
       "      <td>0.595124</td>\n",
       "      <td>5.16201</td>\n",
       "      <td>0.261653</td>\n",
       "    </tr>\n",
       "  </tbody>\n",
       "</table>\n",
       "</div>"
      ],
      "text/plain": [
       "   Total DRAM Power [W]  IA Cores Power [W]  GPU Rail Powers (avg) [W]\n",
       "0              0.595124             5.16201                   0.261653"
      ]
     },
     "execution_count": 5,
     "metadata": {},
     "output_type": "execute_result"
    }
   ],
   "source": [
    "get_base_consumption(\"idle state\")"
   ]
  },
  {
   "cell_type": "code",
   "execution_count": 6,
   "metadata": {},
   "outputs": [
    {
     "data": {
      "text/html": [
       "<div>\n",
       "<style scoped>\n",
       "    .dataframe tbody tr th:only-of-type {\n",
       "        vertical-align: middle;\n",
       "    }\n",
       "\n",
       "    .dataframe tbody tr th {\n",
       "        vertical-align: top;\n",
       "    }\n",
       "\n",
       "    .dataframe thead th {\n",
       "        text-align: right;\n",
       "    }\n",
       "</style>\n",
       "<table border=\"1\" class=\"dataframe\">\n",
       "  <thead>\n",
       "    <tr style=\"text-align: right;\">\n",
       "      <th></th>\n",
       "      <th>Total DRAM Power [W]</th>\n",
       "      <th>IA Cores Power [W]</th>\n",
       "      <th>GPU Rail Powers (avg) [W]</th>\n",
       "    </tr>\n",
       "  </thead>\n",
       "  <tbody>\n",
       "    <tr>\n",
       "      <th>0</th>\n",
       "      <td>0.604075</td>\n",
       "      <td>5.730938</td>\n",
       "      <td>0.250568</td>\n",
       "    </tr>\n",
       "  </tbody>\n",
       "</table>\n",
       "</div>"
      ],
      "text/plain": [
       "   Total DRAM Power [W]  IA Cores Power [W]  GPU Rail Powers (avg) [W]\n",
       "0              0.604075            5.730938                   0.250568"
      ]
     },
     "execution_count": 6,
     "metadata": {},
     "output_type": "execute_result"
    }
   ],
   "source": [
    "get_base_consumption(\"Docker running\")"
   ]
  }
 ],
 "metadata": {
  "kernelspec": {
   "display_name": "green_lm_inference",
   "language": "python",
   "name": "python3"
  },
  "language_info": {
   "codemirror_mode": {
    "name": "ipython",
    "version": 3
   },
   "file_extension": ".py",
   "mimetype": "text/x-python",
   "name": "python",
   "nbconvert_exporter": "python",
   "pygments_lexer": "ipython3",
   "version": "3.12.5"
  }
 },
 "nbformat": 4,
 "nbformat_minor": 2
}
