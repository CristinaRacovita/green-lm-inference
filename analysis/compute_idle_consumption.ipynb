{
 "cells": [
  {
   "cell_type": "markdown",
   "metadata": {},
   "source": [
    "# Compute average idle consumption \n",
    "When noting is running on the machine and when only Docker is running"
   ]
  },
  {
   "cell_type": "code",
   "execution_count": 1,
   "metadata": {},
   "outputs": [],
   "source": [
    "%load_ext autoreload\n",
    "%autoreload 2\n",
    "\n",
    "from results_processor import load_idle_recordings, get_base_consumption\n"
   ]
  },
  {
   "cell_type": "code",
   "execution_count": 2,
   "metadata": {},
   "outputs": [],
   "source": [
    "measurements, timestamps = load_idle_recordings()"
   ]
  },
  {
   "cell_type": "code",
   "execution_count": 3,
   "metadata": {},
   "outputs": [
    {
     "data": {
      "text/html": [
       "<div>\n",
       "<style scoped>\n",
       "    .dataframe tbody tr th:only-of-type {\n",
       "        vertical-align: middle;\n",
       "    }\n",
       "\n",
       "    .dataframe tbody tr th {\n",
       "        vertical-align: top;\n",
       "    }\n",
       "\n",
       "    .dataframe thead th {\n",
       "        text-align: right;\n",
       "    }\n",
       "</style>\n",
       "<table border=\"1\" class=\"dataframe\">\n",
       "  <thead>\n",
       "    <tr style=\"text-align: right;\">\n",
       "      <th></th>\n",
       "      <th>IA Cores Power [W]</th>\n",
       "      <th>Total DRAM Power [W]</th>\n",
       "      <th>GPU Rail Powers (avg) [W]</th>\n",
       "      <th>timestamp</th>\n",
       "    </tr>\n",
       "  </thead>\n",
       "  <tbody>\n",
       "    <tr>\n",
       "      <th>0</th>\n",
       "      <td>19.305</td>\n",
       "      <td>1.294</td>\n",
       "      <td>0.278</td>\n",
       "      <td>2024-10-27 19:41:47.826</td>\n",
       "    </tr>\n",
       "    <tr>\n",
       "      <th>1</th>\n",
       "      <td>23.609</td>\n",
       "      <td>1.517</td>\n",
       "      <td>0.278</td>\n",
       "      <td>2024-10-27 19:41:47.889</td>\n",
       "    </tr>\n",
       "    <tr>\n",
       "      <th>2</th>\n",
       "      <td>23.609</td>\n",
       "      <td>1.517</td>\n",
       "      <td>0.278</td>\n",
       "      <td>2024-10-27 19:41:47.951</td>\n",
       "    </tr>\n",
       "    <tr>\n",
       "      <th>3</th>\n",
       "      <td>14.698</td>\n",
       "      <td>0.901</td>\n",
       "      <td>0.278</td>\n",
       "      <td>2024-10-27 19:41:48.061</td>\n",
       "    </tr>\n",
       "    <tr>\n",
       "      <th>4</th>\n",
       "      <td>8.041</td>\n",
       "      <td>0.689</td>\n",
       "      <td>0.278</td>\n",
       "      <td>2024-10-27 19:41:48.170</td>\n",
       "    </tr>\n",
       "    <tr>\n",
       "      <th>...</th>\n",
       "      <td>...</td>\n",
       "      <td>...</td>\n",
       "      <td>...</td>\n",
       "      <td>...</td>\n",
       "    </tr>\n",
       "    <tr>\n",
       "      <th>6669</th>\n",
       "      <td>15.623</td>\n",
       "      <td>0.970</td>\n",
       "      <td>0.245</td>\n",
       "      <td>2024-10-27 19:54:09.844</td>\n",
       "    </tr>\n",
       "    <tr>\n",
       "      <th>6670</th>\n",
       "      <td>13.997</td>\n",
       "      <td>0.730</td>\n",
       "      <td>0.001</td>\n",
       "      <td>2024-10-27 19:54:10.047</td>\n",
       "    </tr>\n",
       "    <tr>\n",
       "      <th>6671</th>\n",
       "      <td>15.745</td>\n",
       "      <td>0.902</td>\n",
       "      <td>0.000</td>\n",
       "      <td>2024-10-27 19:54:10.126</td>\n",
       "    </tr>\n",
       "    <tr>\n",
       "      <th>6672</th>\n",
       "      <td>15.745</td>\n",
       "      <td>0.902</td>\n",
       "      <td>0.000</td>\n",
       "      <td>2024-10-27 19:54:10.188</td>\n",
       "    </tr>\n",
       "    <tr>\n",
       "      <th>6673</th>\n",
       "      <td>13.850</td>\n",
       "      <td>0.855</td>\n",
       "      <td>0.000</td>\n",
       "      <td>2024-10-27 19:54:10.283</td>\n",
       "    </tr>\n",
       "  </tbody>\n",
       "</table>\n",
       "<p>6674 rows × 4 columns</p>\n",
       "</div>"
      ],
      "text/plain": [
       "      IA Cores Power [W]  Total DRAM Power [W]  GPU Rail Powers (avg) [W]  \\\n",
       "0                 19.305                 1.294                      0.278   \n",
       "1                 23.609                 1.517                      0.278   \n",
       "2                 23.609                 1.517                      0.278   \n",
       "3                 14.698                 0.901                      0.278   \n",
       "4                  8.041                 0.689                      0.278   \n",
       "...                  ...                   ...                        ...   \n",
       "6669              15.623                 0.970                      0.245   \n",
       "6670              13.997                 0.730                      0.001   \n",
       "6671              15.745                 0.902                      0.000   \n",
       "6672              15.745                 0.902                      0.000   \n",
       "6673              13.850                 0.855                      0.000   \n",
       "\n",
       "                   timestamp  \n",
       "0    2024-10-27 19:41:47.826  \n",
       "1    2024-10-27 19:41:47.889  \n",
       "2    2024-10-27 19:41:47.951  \n",
       "3    2024-10-27 19:41:48.061  \n",
       "4    2024-10-27 19:41:48.170  \n",
       "...                      ...  \n",
       "6669 2024-10-27 19:54:09.844  \n",
       "6670 2024-10-27 19:54:10.047  \n",
       "6671 2024-10-27 19:54:10.126  \n",
       "6672 2024-10-27 19:54:10.188  \n",
       "6673 2024-10-27 19:54:10.283  \n",
       "\n",
       "[6674 rows x 4 columns]"
      ]
     },
     "execution_count": 3,
     "metadata": {},
     "output_type": "execute_result"
    }
   ],
   "source": [
    "measurements"
   ]
  },
  {
   "cell_type": "code",
   "execution_count": 4,
   "metadata": {},
   "outputs": [
    {
     "data": {
      "text/html": [
       "<div>\n",
       "<style scoped>\n",
       "    .dataframe tbody tr th:only-of-type {\n",
       "        vertical-align: middle;\n",
       "    }\n",
       "\n",
       "    .dataframe tbody tr th {\n",
       "        vertical-align: top;\n",
       "    }\n",
       "\n",
       "    .dataframe thead th {\n",
       "        text-align: right;\n",
       "    }\n",
       "</style>\n",
       "<table border=\"1\" class=\"dataframe\">\n",
       "  <thead>\n",
       "    <tr style=\"text-align: right;\">\n",
       "      <th></th>\n",
       "      <th>timestamp_name</th>\n",
       "      <th>timestamp_value</th>\n",
       "    </tr>\n",
       "  </thead>\n",
       "  <tbody>\n",
       "    <tr>\n",
       "      <th>0</th>\n",
       "      <td>idle state</td>\n",
       "      <td>2024-10-27 19:47:27.353483</td>\n",
       "    </tr>\n",
       "    <tr>\n",
       "      <th>1</th>\n",
       "      <td>Docker running</td>\n",
       "      <td>2024-10-27 19:53:08.312752</td>\n",
       "    </tr>\n",
       "  </tbody>\n",
       "</table>\n",
       "</div>"
      ],
      "text/plain": [
       "   timestamp_name            timestamp_value\n",
       "0      idle state 2024-10-27 19:47:27.353483\n",
       "1  Docker running 2024-10-27 19:53:08.312752"
      ]
     },
     "execution_count": 4,
     "metadata": {},
     "output_type": "execute_result"
    }
   ],
   "source": [
    "timestamps"
   ]
  },
  {
   "cell_type": "code",
   "execution_count": 5,
   "metadata": {},
   "outputs": [
    {
     "data": {
      "text/html": [
       "<div>\n",
       "<style scoped>\n",
       "    .dataframe tbody tr th:only-of-type {\n",
       "        vertical-align: middle;\n",
       "    }\n",
       "\n",
       "    .dataframe tbody tr th {\n",
       "        vertical-align: top;\n",
       "    }\n",
       "\n",
       "    .dataframe thead th {\n",
       "        text-align: right;\n",
       "    }\n",
       "</style>\n",
       "<table border=\"1\" class=\"dataframe\">\n",
       "  <thead>\n",
       "    <tr style=\"text-align: right;\">\n",
       "      <th></th>\n",
       "      <th>Total DRAM Power [W]</th>\n",
       "      <th>IA Cores Power [W]</th>\n",
       "      <th>GPU Rail Powers (avg) [W]</th>\n",
       "    </tr>\n",
       "  </thead>\n",
       "  <tbody>\n",
       "    <tr>\n",
       "      <th>0</th>\n",
       "      <td>0.63853</td>\n",
       "      <td>6.756814</td>\n",
       "      <td>0.267375</td>\n",
       "    </tr>\n",
       "  </tbody>\n",
       "</table>\n",
       "</div>"
      ],
      "text/plain": [
       "   Total DRAM Power [W]  IA Cores Power [W]  GPU Rail Powers (avg) [W]\n",
       "0               0.63853            6.756814                   0.267375"
      ]
     },
     "execution_count": 5,
     "metadata": {},
     "output_type": "execute_result"
    }
   ],
   "source": [
    "get_base_consumption(\"idle state\")"
   ]
  },
  {
   "cell_type": "code",
   "execution_count": 6,
   "metadata": {},
   "outputs": [
    {
     "data": {
      "text/html": [
       "<div>\n",
       "<style scoped>\n",
       "    .dataframe tbody tr th:only-of-type {\n",
       "        vertical-align: middle;\n",
       "    }\n",
       "\n",
       "    .dataframe tbody tr th {\n",
       "        vertical-align: top;\n",
       "    }\n",
       "\n",
       "    .dataframe thead th {\n",
       "        text-align: right;\n",
       "    }\n",
       "</style>\n",
       "<table border=\"1\" class=\"dataframe\">\n",
       "  <thead>\n",
       "    <tr style=\"text-align: right;\">\n",
       "      <th></th>\n",
       "      <th>Total DRAM Power [W]</th>\n",
       "      <th>IA Cores Power [W]</th>\n",
       "      <th>GPU Rail Powers (avg) [W]</th>\n",
       "    </tr>\n",
       "  </thead>\n",
       "  <tbody>\n",
       "    <tr>\n",
       "      <th>0</th>\n",
       "      <td>0.661051</td>\n",
       "      <td>7.011748</td>\n",
       "      <td>0.255465</td>\n",
       "    </tr>\n",
       "  </tbody>\n",
       "</table>\n",
       "</div>"
      ],
      "text/plain": [
       "   Total DRAM Power [W]  IA Cores Power [W]  GPU Rail Powers (avg) [W]\n",
       "0              0.661051            7.011748                   0.255465"
      ]
     },
     "execution_count": 6,
     "metadata": {},
     "output_type": "execute_result"
    }
   ],
   "source": [
    "get_base_consumption(\"Docker running\")"
   ]
  }
 ],
 "metadata": {
  "kernelspec": {
   "display_name": "green_lm_inference",
   "language": "python",
   "name": "python3"
  },
  "language_info": {
   "codemirror_mode": {
    "name": "ipython",
    "version": 3
   },
   "file_extension": ".py",
   "mimetype": "text/x-python",
   "name": "python",
   "nbconvert_exporter": "python",
   "pygments_lexer": "ipython3",
   "version": "3.12.5"
  }
 },
 "nbformat": 4,
 "nbformat_minor": 2
}
