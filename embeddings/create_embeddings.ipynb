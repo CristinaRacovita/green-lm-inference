{
 "cells": [
  {
   "cell_type": "markdown",
   "metadata": {},
   "source": [
    "### 0. Import libraries"
   ]
  },
  {
   "cell_type": "code",
   "execution_count": 1,
   "metadata": {},
   "outputs": [],
   "source": [
    "import json\n",
    "import torch\n",
    "from transformers import AutoModel, AutoTokenizer\n"
   ]
  },
  {
   "cell_type": "code",
   "execution_count": 2,
   "metadata": {},
   "outputs": [
    {
     "name": "stdout",
     "output_type": "stream",
     "text": [
      "Current device: 0 (cuda) -> NVIDIA GeForce GTX 1050 Ti\n"
     ]
    }
   ],
   "source": [
    "device = torch.device(\"cuda\" if torch.cuda.is_available() else \"cpu\")\n",
    "print(f\"Current device: {torch.cuda.current_device()} ({device}) -> {torch.cuda.get_device_name(0)}\")"
   ]
  },
  {
   "cell_type": "markdown",
   "metadata": {},
   "source": [
    "### 1. Load the model and the tokenizer"
   ]
  },
  {
   "cell_type": "code",
   "execution_count": 3,
   "metadata": {},
   "outputs": [],
   "source": [
    "model_paths = ['Alibaba-NLP/gte-base-en-v1.5', 'Alibaba-NLP/gte-large-en-v1.5', 'Alibaba-NLP/gte-Qwen2-1.5B-instruct']\n",
    "dataset_names = [\"quora\", \"covid\", \"touche\"]\n",
    "tokenizer = AutoTokenizer.from_pretrained(model_paths[0])\n",
    "model = AutoModel.from_pretrained(model_paths[0], trust_remote_code=True).to(device)"
   ]
  },
  {
   "cell_type": "markdown",
   "metadata": {
    "vscode": {
     "languageId": "bat"
    }
   },
   "source": [
    "Data sources: \\\n",
    "https://huggingface.co/datasets/mteb/quora \\\n",
    "https://huggingface.co/datasets/mteb/trec-covid \\\n",
    "https://huggingface.co/datasets/mteb/touche2020"
   ]
  },
  {
   "cell_type": "code",
   "execution_count": 4,
   "metadata": {},
   "outputs": [],
   "source": [
    "def load_data(dataset_name, path, subset_type):\n",
    "    file_name = path.format(dataset_name) + f\"{subset_type}.jsonl\"\n",
    "\n",
    "    with open(file_name, \"r\") as json_file:\n",
    "        data = [\n",
    "            \"\\n\".join({k: v for k, v in json.loads(line).items() if k != \"_id\"}.values()).strip(\"\\n\")\n",
    "            for line in json_file\n",
    "        ]\n",
    "    \n",
    "    return data\n"
   ]
  },
  {
   "cell_type": "code",
   "execution_count": 5,
   "metadata": {},
   "outputs": [],
   "source": [
    "path = \"../data/datasets/{}/\"\n",
    "data = load_data(\"quora\", path, \"corpus\")"
   ]
  },
  {
   "cell_type": "markdown",
   "metadata": {},
   "source": [
    "### 2. Embed each input text using a batch of 1"
   ]
  },
  {
   "cell_type": "code",
   "execution_count": 33,
   "metadata": {},
   "outputs": [],
   "source": [
    "for text in data[:3]:\n",
    "    # tokenize the input texts\n",
    "    batch_dict = tokenizer([text], max_length=8192, padding=True, truncation=True, return_tensors='pt').to(device)\n",
    "\n",
    "    # get embeddings\n",
    "    outputs = model(**batch_dict)\n",
    "    embeddings = outputs.last_hidden_state[:, 0][0].cpu().detach().numpy()\n",
    "\n",
    "    # del batch_dict,outputs, embeddings"
   ]
  }
 ],
 "metadata": {
  "kernelspec": {
   "display_name": "green_lm_inference",
   "language": "python",
   "name": "python3"
  },
  "language_info": {
   "codemirror_mode": {
    "name": "ipython",
    "version": 3
   },
   "file_extension": ".py",
   "mimetype": "text/x-python",
   "name": "python",
   "nbconvert_exporter": "python",
   "pygments_lexer": "ipython3",
   "version": "3.12.5"
  }
 },
 "nbformat": 4,
 "nbformat_minor": 2
}
